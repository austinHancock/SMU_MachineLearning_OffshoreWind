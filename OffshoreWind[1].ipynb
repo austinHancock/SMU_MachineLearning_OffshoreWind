{
 "cells": [
  {
   "cell_type": "markdown",
   "metadata": {},
   "source": [
    "# Offshore Wind\n",
    "Austin Hancock"
   ]
  },
  {
   "cell_type": "markdown",
   "metadata": {},
   "source": [
    "### Load data"
   ]
  },
  {
   "cell_type": "code",
   "execution_count": 1,
   "metadata": {},
   "outputs": [
    {
     "name": "stderr",
     "output_type": "stream",
     "text": [
      "C:\\Users\\ahancock\\AppData\\Local\\Continuum\\anaconda3\\lib\\site-packages\\sklearn\\cross_validation.py:41: DeprecationWarning: This module was deprecated in version 0.18 in favor of the model_selection module into which all the refactored classes and functions are moved. Also note that the interface of the new CV iterators are different from that of this module. This module will be removed in 0.20.\n",
      "  \"This module will be removed in 0.20.\", DeprecationWarning)\n"
     ]
    }
   ],
   "source": [
    "import pandas as pd\n",
    "import seaborn as sns\n",
    "import numpy as np\n",
    "import matplotlib.pyplot as plt\n",
    "from sklearn import datasets, linear_model\n",
    "from sklearn.model_selection import train_test_split\n",
    "from sklearn import preprocessing\n",
    "from sklearn.cross_validation import cross_val_score, cross_val_predict\n",
    "from sklearn import metrics\n",
    "from sklearn.preprocessing import StandardScaler\n",
    "from sklearn.linear_model import Perceptron\n",
    "from sklearn.metrics import accuracy_score\n",
    "from matplotlib.colors import ListedColormap\n",
    "from sklearn.tree import DecisionTreeClassifier\n",
    "from sklearn.tree import export_graphviz\n",
    "from sklearn.metrics import confusion_matrix\n",
    "from sklearn.preprocessing import label_binarize"
   ]
  },
  {
   "cell_type": "code",
   "execution_count": 15,
   "metadata": {},
   "outputs": [],
   "source": [
    "windFarms = pd.read_csv(\n",
    "    filepath_or_buffer = 'Windfarms_Offshore_20180712(working).csv',\n",
    "    sep = ','\n",
    ")"
   ]
  },
  {
   "cell_type": "code",
   "execution_count": 16,
   "metadata": {},
   "outputs": [
    {
     "data": {
      "text/html": [
       "<div>\n",
       "<style>\n",
       "    .dataframe thead tr:only-child th {\n",
       "        text-align: right;\n",
       "    }\n",
       "\n",
       "    .dataframe thead th {\n",
       "        text-align: left;\n",
       "    }\n",
       "\n",
       "    .dataframe tbody tr th {\n",
       "        vertical-align: top;\n",
       "    }\n",
       "</style>\n",
       "<table border=\"1\" class=\"dataframe\">\n",
       "  <thead>\n",
       "    <tr style=\"text-align: right;\">\n",
       "      <th></th>\n",
       "      <th>ID ( = no data)</th>\n",
       "      <th>Continent</th>\n",
       "      <th>ISO code (Code ISO 3166.1)</th>\n",
       "      <th>Country</th>\n",
       "      <th>State code</th>\n",
       "      <th>Area</th>\n",
       "      <th>City</th>\n",
       "      <th>Name</th>\n",
       "      <th>2nd name</th>\n",
       "      <th>Latitude (WGS84)</th>\n",
       "      <th>...</th>\n",
       "      <th>Turbine</th>\n",
       "      <th>Hub height (m)</th>\n",
       "      <th>Number of turbines</th>\n",
       "      <th>Total power (kW)</th>\n",
       "      <th>Developer</th>\n",
       "      <th>Operator</th>\n",
       "      <th>Owner</th>\n",
       "      <th>Commissioning date (Format: yyyy or yyyymm)</th>\n",
       "      <th>Status</th>\n",
       "      <th>Update</th>\n",
       "    </tr>\n",
       "  </thead>\n",
       "  <tbody>\n",
       "    <tr>\n",
       "      <th>0</th>\n",
       "      <td>428</td>\n",
       "      <td>Europe</td>\n",
       "      <td>BE</td>\n",
       "      <td>Belgium</td>\n",
       "      <td>NaN</td>\n",
       "      <td>Offshore</td>\n",
       "      <td>NaN</td>\n",
       "      <td>Thorntonbank</td>\n",
       "      <td>Part 1</td>\n",
       "      <td>51.54</td>\n",
       "      <td>...</td>\n",
       "      <td>5M</td>\n",
       "      <td>94.0</td>\n",
       "      <td>6.0</td>\n",
       "      <td>30450.0</td>\n",
       "      <td>EDF-EN/C-Power NV</td>\n",
       "      <td>C-Power NV</td>\n",
       "      <td>DEME/EDF-EN/Socofe/Nuhma/RWE/</td>\n",
       "      <td>2008/07</td>\n",
       "      <td>Production</td>\n",
       "      <td>25/06/2018</td>\n",
       "    </tr>\n",
       "    <tr>\n",
       "      <th>1</th>\n",
       "      <td>729</td>\n",
       "      <td>Europe</td>\n",
       "      <td>DK</td>\n",
       "      <td>Denmark</td>\n",
       "      <td>NaN</td>\n",
       "      <td>Offshore</td>\n",
       "      <td>NaN</td>\n",
       "      <td>Middelgrunden</td>\n",
       "      <td>NaN</td>\n",
       "      <td>55.691</td>\n",
       "      <td>...</td>\n",
       "      <td>B76/2000</td>\n",
       "      <td>64.0</td>\n",
       "      <td>20.0</td>\n",
       "      <td>40000.0</td>\n",
       "      <td>Orsted</td>\n",
       "      <td>Orsted/Middelgrundens Vindmollelaug</td>\n",
       "      <td>Orsted/Middelgrundens Vindmollelaug</td>\n",
       "      <td>2000/12</td>\n",
       "      <td>Production</td>\n",
       "      <td>28/06/2018</td>\n",
       "    </tr>\n",
       "    <tr>\n",
       "      <th>2</th>\n",
       "      <td>759</td>\n",
       "      <td>Europe</td>\n",
       "      <td>FI</td>\n",
       "      <td>Finland</td>\n",
       "      <td>NaN</td>\n",
       "      <td>Offshore</td>\n",
       "      <td>NaN</td>\n",
       "      <td>Ajos 1</td>\n",
       "      <td>NaN</td>\n",
       "      <td>65.6584267113501</td>\n",
       "      <td>...</td>\n",
       "      <td>WWD-3-90</td>\n",
       "      <td>90.0</td>\n",
       "      <td>1.0</td>\n",
       "      <td>3000.0</td>\n",
       "      <td>Haminan Energia Oy</td>\n",
       "      <td>Haminan Energia Oy</td>\n",
       "      <td>Haminan Energia Oy</td>\n",
       "      <td>2005/12</td>\n",
       "      <td>Production</td>\n",
       "      <td>12/6/2018</td>\n",
       "    </tr>\n",
       "    <tr>\n",
       "      <th>3</th>\n",
       "      <td>760</td>\n",
       "      <td>Europe</td>\n",
       "      <td>FI</td>\n",
       "      <td>Finland</td>\n",
       "      <td>NaN</td>\n",
       "      <td>Offshore</td>\n",
       "      <td>NaN</td>\n",
       "      <td>Ajos 5</td>\n",
       "      <td>NaN</td>\n",
       "      <td>65.650284</td>\n",
       "      <td>...</td>\n",
       "      <td>WWD-3-100</td>\n",
       "      <td>88.0</td>\n",
       "      <td>0.0</td>\n",
       "      <td>0.0</td>\n",
       "      <td>PVO Innopower Oy</td>\n",
       "      <td>NaN</td>\n",
       "      <td>NaN</td>\n",
       "      <td>2007/10</td>\n",
       "      <td>Dismantled</td>\n",
       "      <td>12/6/2018</td>\n",
       "    </tr>\n",
       "    <tr>\n",
       "      <th>4</th>\n",
       "      <td>1069</td>\n",
       "      <td>Europe</td>\n",
       "      <td>SE</td>\n",
       "      <td>Sweden</td>\n",
       "      <td>NaN</td>\n",
       "      <td>Offshore</td>\n",
       "      <td>NaN</td>\n",
       "      <td>Utgrunden I</td>\n",
       "      <td>NaN</td>\n",
       "      <td>56.344</td>\n",
       "      <td>...</td>\n",
       "      <td>1.5s</td>\n",
       "      <td>65.0</td>\n",
       "      <td>7.0</td>\n",
       "      <td>10500.0</td>\n",
       "      <td>Vattenfall/Orsted/OX2</td>\n",
       "      <td>Vattenfall</td>\n",
       "      <td>Vattenfall</td>\n",
       "      <td>2006/10</td>\n",
       "      <td>Production</td>\n",
       "      <td>15/01/2018</td>\n",
       "    </tr>\n",
       "  </tbody>\n",
       "</table>\n",
       "<p>5 rows × 25 columns</p>\n",
       "</div>"
      ],
      "text/plain": [
       "   ID ( = no data) Continent ISO code (Code ISO 3166.1)  Country  State code  \\\n",
       "0              428    Europe                         BE  Belgium         NaN   \n",
       "1              729    Europe                         DK  Denmark         NaN   \n",
       "2              759    Europe                         FI  Finland         NaN   \n",
       "3              760    Europe                         FI  Finland         NaN   \n",
       "4             1069    Europe                         SE   Sweden         NaN   \n",
       "\n",
       "       Area  City           Name 2nd name  Latitude (WGS84)     ...      \\\n",
       "0  Offshore   NaN   Thorntonbank   Part 1             51.54     ...       \n",
       "1  Offshore   NaN  Middelgrunden      NaN            55.691     ...       \n",
       "2  Offshore   NaN         Ajos 1      NaN  65.6584267113501     ...       \n",
       "3  Offshore   NaN         Ajos 5      NaN         65.650284     ...       \n",
       "4  Offshore   NaN    Utgrunden I      NaN            56.344     ...       \n",
       "\n",
       "     Turbine  Hub height (m) Number of turbines Total power (kW)  \\\n",
       "0         5M            94.0                6.0          30450.0   \n",
       "1   B76/2000            64.0               20.0          40000.0   \n",
       "2   WWD-3-90            90.0                1.0           3000.0   \n",
       "3  WWD-3-100            88.0                0.0              0.0   \n",
       "4       1.5s            65.0                7.0          10500.0   \n",
       "\n",
       "               Developer                             Operator  \\\n",
       "0      EDF-EN/C-Power NV                           C-Power NV   \n",
       "1                 Orsted  Orsted/Middelgrundens Vindmollelaug   \n",
       "2     Haminan Energia Oy                   Haminan Energia Oy   \n",
       "3       PVO Innopower Oy                                  NaN   \n",
       "4  Vattenfall/Orsted/OX2                           Vattenfall   \n",
       "\n",
       "                                 Owner  \\\n",
       "0        DEME/EDF-EN/Socofe/Nuhma/RWE/   \n",
       "1  Orsted/Middelgrundens Vindmollelaug   \n",
       "2                   Haminan Energia Oy   \n",
       "3                                  NaN   \n",
       "4                           Vattenfall   \n",
       "\n",
       "   Commissioning date (Format: yyyy or yyyymm)      Status      Update  \n",
       "0                                      2008/07  Production  25/06/2018  \n",
       "1                                      2000/12  Production  28/06/2018  \n",
       "2                                      2005/12  Production   12/6/2018  \n",
       "3                                      2007/10  Dismantled   12/6/2018  \n",
       "4                                      2006/10  Production  15/01/2018  \n",
       "\n",
       "[5 rows x 25 columns]"
      ]
     },
     "execution_count": 16,
     "metadata": {},
     "output_type": "execute_result"
    }
   ],
   "source": [
    "windFarms.head()"
   ]
  },
  {
   "cell_type": "code",
   "execution_count": 17,
   "metadata": {},
   "outputs": [
    {
     "data": {
      "text/plain": [
       "(724, 25)"
      ]
     },
     "execution_count": 17,
     "metadata": {},
     "output_type": "execute_result"
    }
   ],
   "source": [
    "windFarms.shape"
   ]
  },
  {
   "cell_type": "markdown",
   "metadata": {},
   "source": [
    "### Data Exploration"
   ]
  },
  {
   "cell_type": "code",
   "execution_count": 18,
   "metadata": {},
   "outputs": [
    {
     "data": {
      "image/png": "[encoded data removed]",
      "text/plain": [
       "<matplotlib.figure.Figure at 0x218bfed2ef0>"
      ]
     },
     "metadata": {},
     "output_type": "display_data"
    }
   ],
   "source": [
    "# Total power (kW)\n",
    "windFarms_Power = windFarms.dropna(subset=['Total power (kW)'])\n",
    "plt.boxplot(windFarms_Power['Total power (kW)'])\n",
    "plt.show()"
   ]
  },
  {
   "cell_type": "markdown",
   "metadata": {},
   "source": [
    "> Need to clean this up"
   ]
  },
  {
   "cell_type": "code",
   "execution_count": 19,
   "metadata": {},
   "outputs": [
    {
     "data": {
      "image/png": "[encoded data removed]",
      "text/plain": [
       "<matplotlib.figure.Figure at 0x218bfedabe0>"
      ]
     },
     "metadata": {},
     "output_type": "display_data"
    }
   ],
   "source": [
    "windFarms_Power = windFarms_Power.drop(windFarms_Power[windFarms_Power['Total power (kW)'] > 4000000].index)\n",
    "windFarms_Power = windFarms_Power.drop(windFarms_Power[windFarms_Power['Total power (kW)'] < 1].index)\n",
    "plt.boxplot(windFarms_Power['Total power (kW)'])\n",
    "plt.show()"
   ]
  },
  {
   "cell_type": "code",
   "execution_count": 20,
   "metadata": {},
   "outputs": [
    {
     "data": {
      "image/png": "[encoded data removed]",
      "text/plain": [
       "<matplotlib.figure.Figure at 0x218bfd50cc0>"
      ]
     },
     "metadata": {},
     "output_type": "display_data"
    }
   ],
   "source": [
    "plt.hist(windFarms_Power['Total power (kW)'])\n",
    "plt.show()"
   ]
  },
  {
   "cell_type": "markdown",
   "metadata": {},
   "source": [
    "> Need a log transform to fix skewness"
   ]
  },
  {
   "cell_type": "code",
   "execution_count": 21,
   "metadata": {},
   "outputs": [],
   "source": [
    "windFarms_Power['Total power (kW)'] = np.log(windFarms_Power['Total power (kW)'])"
   ]
  },
  {
   "cell_type": "code",
   "execution_count": 22,
   "metadata": {},
   "outputs": [
    {
     "data": {
      "image/png": "[encoded data removed]",
      "text/plain": [
       "<matplotlib.figure.Figure at 0x218bfdd4a58>"
      ]
     },
     "metadata": {},
     "output_type": "display_data"
    }
   ],
   "source": [
    "plt.hist(windFarms_Power['Total power (kW)'])\n",
    "plt.show()"
   ]
  },
  {
   "cell_type": "markdown",
   "metadata": {},
   "source": [
    "> Looks much better"
   ]
  },
  {
   "cell_type": "code",
   "execution_count": 23,
   "metadata": {},
   "outputs": [
    {
     "data": {
      "image/png": "[encoded data removed]",
      "text/plain": [
       "<matplotlib.figure.Figure at 0x218bfe5a4e0>"
      ]
     },
     "metadata": {},
     "output_type": "display_data"
    }
   ],
   "source": [
    "# Average power output per turbines\n",
    "windFarms_Output = windFarms.copy()\n",
    "windFarms_Output = windFarms_Output.dropna(subset=['Total power (kW)'])\n",
    "windFarms_Output = windFarms_Output.dropna(subset=['Number of turbines'])\n",
    "windFarms_Output['Output/turbine'] = np.where(windFarms_Output['Number of turbines'] < 1, windFarms_Output['Number of turbines'], windFarms_Output['Total power (kW)']/windFarms_Output['Number of turbines'])\n",
    "plt.boxplot(windFarms_Output['Output/turbine'])\n",
    "plt.show()"
   ]
  },
  {
   "cell_type": "code",
   "execution_count": 24,
   "metadata": {},
   "outputs": [
    {
     "data": {
      "image/png": "[encoded data removed]",
      "text/plain": [
       "<matplotlib.figure.Figure at 0x218bfe675c0>"
      ]
     },
     "metadata": {},
     "output_type": "display_data"
    }
   ],
   "source": [
    "# Hub Height\n",
    "windFarms_Hub = windFarms.dropna(subset=['Hub height (m)'])\n",
    "plt.boxplot(windFarms_Hub['Hub height (m)'])\n",
    "plt.show()"
   ]
  },
  {
   "cell_type": "markdown",
   "metadata": {},
   "source": [
    "> Looks ok"
   ]
  },
  {
   "cell_type": "code",
   "execution_count": 25,
   "metadata": {},
   "outputs": [
    {
     "data": {
      "image/png": "[encoded data removed]",
      "text/plain": [
       "<matplotlib.figure.Figure at 0x218bfce4240>"
      ]
     },
     "metadata": {},
     "output_type": "display_data"
    }
   ],
   "source": [
    "# Number of turbines\n",
    "windFarms_NumTurbines = windFarms.dropna(subset=['Number of turbines'])\n",
    "plt.boxplot(windFarms_NumTurbines['Number of turbines'])\n",
    "plt.show()"
   ]
  },
  {
   "cell_type": "markdown",
   "metadata": {},
   "source": [
    "> Three very large outliers"
   ]
  },
  {
   "cell_type": "code",
   "execution_count": 26,
   "metadata": {},
   "outputs": [
    {
     "data": {
      "image/png": "[encoded data removed]",
      "text/plain": [
       "<matplotlib.figure.Figure at 0x218bfcf6860>"
      ]
     },
     "metadata": {},
     "output_type": "display_data"
    }
   ],
   "source": [
    "# Drop outliers\n",
    "windFarms_NumTurbines = windFarms_NumTurbines.drop(windFarms_NumTurbines[windFarms_NumTurbines['Number of turbines'] > 300].index)\n",
    "# Drop where number of turbines = 0 \n",
    "windFarms_NumTurbines = windFarms_NumTurbines.drop(windFarms_NumTurbines[windFarms_NumTurbines['Number of turbines'] < 1].index)\n",
    "plt.boxplot(windFarms_NumTurbines['Number of turbines'])\n",
    "plt.show()"
   ]
  },
  {
   "cell_type": "code",
   "execution_count": 27,
   "metadata": {},
   "outputs": [
    {
     "data": {
      "image/png": "[encoded data removed]",
      "text/plain": [
       "<matplotlib.figure.Figure at 0x218bfbf32b0>"
      ]
     },
     "metadata": {},
     "output_type": "display_data"
    }
   ],
   "source": [
    "windFarms_NumTurbines['Number of turbines'] = np.log(windFarms_NumTurbines['Number of turbines'])\n",
    "plt.boxplot(windFarms_NumTurbines['Number of turbines'])\n",
    "plt.show()"
   ]
  },
  {
   "cell_type": "markdown",
   "metadata": {},
   "source": [
    "> Looks better after removing outliers"
   ]
  },
  {
   "cell_type": "code",
   "execution_count": 28,
   "metadata": {},
   "outputs": [
    {
     "data": {
      "image/png": "[encoded data removed]",
      "text/plain": [
       "<matplotlib.figure.Figure at 0x218bfdf2f60>"
      ]
     },
     "metadata": {},
     "output_type": "display_data"
    }
   ],
   "source": [
    "# Depth\n",
    "windFarms_Depth = windFarms.dropna(subset=['Altitude/Depth (m)'])\n",
    "plt.boxplot(windFarms_Depth['Altitude/Depth (m)'])\n",
    "plt.show()"
   ]
  },
  {
   "cell_type": "markdown",
   "metadata": {},
   "source": [
    "> Large outliers on both sides, this is most likely due to lat lon coordinates being inaccurate"
   ]
  },
  {
   "cell_type": "code",
   "execution_count": 29,
   "metadata": {},
   "outputs": [
    {
     "data": {
      "image/png": "[encoded data removed]",
      "text/plain": [
       "<matplotlib.figure.Figure at 0x218bfe5f550>"
      ]
     },
     "metadata": {},
     "output_type": "display_data"
    }
   ],
   "source": [
    "windFarms_Depth = windFarms_Depth.drop(windFarms_Depth[windFarms_Depth['Altitude/Depth (m)'] > 100].index)\n",
    "windFarms_Depth = windFarms_Depth.drop(windFarms_Depth[windFarms_Depth['Altitude/Depth (m)'] < -150].index)\n",
    "plt.boxplot(windFarms_Depth['Altitude/Depth (m)'])\n",
    "plt.show()"
   ]
  },
  {
   "cell_type": "markdown",
   "metadata": {},
   "source": [
    "> A little better. Without better bathymetry measurements, I'll settle with this for now."
   ]
  },
  {
   "cell_type": "code",
   "execution_count": 30,
   "metadata": {},
   "outputs": [],
   "source": [
    "# Make above exploration changes to dataset\n",
    "windFarms = windFarms.drop(windFarms[windFarms['Number of turbines'] > 300].index)\n",
    "windFarms = windFarms.drop(windFarms[windFarms['Number of turbines'] < 1].index)\n",
    "windFarms['Number of turbines'] = np.log(windFarms['Number of turbines'])\n",
    "windFarms = windFarms.drop(windFarms[windFarms['Altitude/Depth (m)'] > 100].index)\n",
    "windFarms = windFarms.drop(windFarms[windFarms['Altitude/Depth (m)'] < -150].index)\n",
    "windFarms = windFarms.drop(windFarms[windFarms['Total power (kW)'] > 4000000].index)\n",
    "windFarms = windFarms.drop(windFarms[windFarms['Total power (kW)'] < 1].index)\n",
    "windFarms['Total power (kW)'] = np.log(windFarms['Total power (kW)'])"
   ]
  },
  {
   "cell_type": "code",
   "execution_count": 31,
   "metadata": {},
   "outputs": [],
   "source": [
    "# Create dummy variables for the categorical data\n",
    "# Ended up dropping some values that were not helpful to the model\n",
    "\n",
    "## Continent\n",
    "#dummies = pd.get_dummies(windFarms['Continent']).rename(columns=lambda x: 'Continent_' + str(x))\n",
    "#windFarms = pd.concat([windFarms, dummies], axis=1)\n",
    "#windFarms.drop(['Continent'], inplace=True, axis=1)\n",
    "## Country\n",
    "#dummies = pd.get_dummies(windFarms['Country']).rename(columns=lambda x: 'Country_' + str(x))\n",
    "#windFarms = pd.concat([windFarms, dummies], axis=1)\n",
    "#windFarms.drop(['Country'], inplace=True, axis=1)\n",
    "## Manufacturer\n",
    "dummies = pd.get_dummies(windFarms['Manufacturer']).rename(columns=lambda x: 'Manufacturer_' + str(x))\n",
    "windFarms = pd.concat([windFarms, dummies], axis=1)\n",
    "windFarms.drop(['Manufacturer'], inplace=True, axis=1)\n",
    "## Turbine\n",
    "dummies = pd.get_dummies(windFarms['Turbine']).rename(columns=lambda x: 'Turbine_' + str(x))\n",
    "windFarms = pd.concat([windFarms, dummies], axis=1)\n",
    "windFarms.drop(['Turbine'], inplace=True, axis=1)\n",
    "## Developer\n",
    "#dummies = pd.get_dummies(windFarms['Developer']).rename(columns=lambda x: 'Developer_' + str(x))\n",
    "#windFarms = pd.concat([windFarms, dummies], axis=1)\n",
    "#windFarms.drop(['Developer'], inplace=True, axis=1)\n",
    "## Operator\n",
    "#dummies = pd.get_dummies(windFarms['Operator']).rename(columns=lambda x: 'Operator_' + str(x))\n",
    "#windFarms = pd.concat([windFarms, dummies], axis=1)\n",
    "#windFarms.drop(['Operator'], inplace=True, axis=1)\n",
    "## Owner\n",
    "#dummies = pd.get_dummies(windFarms['Owner']).rename(columns=lambda x: 'Owner_' + str(x))\n",
    "#windFarms = pd.concat([windFarms, dummies], axis=1)\n",
    "#windFarms.drop(['Owner'], inplace=True, axis=1)\n",
    "## Status\n",
    "dummies = pd.get_dummies(windFarms['Status']).rename(columns=lambda x: 'Status_' + str(x))\n",
    "windFarms = pd.concat([windFarms, dummies], axis=1)\n",
    "windFarms.drop(['Status'], inplace=True, axis=1)"
   ]
  },
  {
   "cell_type": "code",
   "execution_count": 32,
   "metadata": {},
   "outputs": [
    {
     "data": {
      "text/plain": [
       "(679, 141)"
      ]
     },
     "execution_count": 32,
     "metadata": {},
     "output_type": "execute_result"
    }
   ],
   "source": [
    "windFarms.shape"
   ]
  },
  {
   "cell_type": "code",
   "execution_count": 33,
   "metadata": {},
   "outputs": [
    {
     "name": "stdout",
     "output_type": "stream",
     "text": [
      "<class 'pandas.core.frame.DataFrame'>\n",
      "Int64Index: 679 entries, 0 to 723\n",
      "Columns: 123 entries, Altitude/Depth (m) to Status_Production\n",
      "dtypes: float64(4), uint8(119)\n",
      "memory usage: 105.4 KB\n"
     ]
    }
   ],
   "source": [
    "# Remove fields I won't be using\n",
    "excludeFields = ['ID ( = no data)', 'Continent', 'ISO code (Code ISO 3166.1)', 'Country', 'State code', 'Area', \n",
    "                 'City', 'Name', '2nd name', 'Latitude (WGS84)', 'Longitude (WGS84)', \n",
    "                 'Location accuracy (Yes = accurate location)', 'Offshore - Shore distance (km)', 'Developer', \n",
    "                 'Operator', 'Owner', 'Commissioning date (Format: yyyy or yyyymm)', 'Update']\n",
    "\n",
    "keepFields = [col for col in windFarms.columns if col not in excludeFields]\n",
    "\n",
    "windFarms = windFarms[keepFields]\n",
    "\n",
    "windFarms.info()"
   ]
  },
  {
   "cell_type": "code",
   "execution_count": 34,
   "metadata": {},
   "outputs": [
    {
     "data": {
      "text/plain": [
       "(679, 123)"
      ]
     },
     "execution_count": 34,
     "metadata": {},
     "output_type": "execute_result"
    }
   ],
   "source": [
    "windFarms.shape"
   ]
  },
  {
   "cell_type": "markdown",
   "metadata": {},
   "source": [
    "### Missing Data"
   ]
  },
  {
   "cell_type": "markdown",
   "metadata": {},
   "source": [
    "Initial dataset from WindPower.net was missing a lot of depth measurements (56% missing).\n",
    "I used a tool from www.geoplaner.com to fill these missing depths using latitude and longitude coordinates."
   ]
  },
  {
   "cell_type": "code",
   "execution_count": 35,
   "metadata": {},
   "outputs": [
    {
     "name": "stdout",
     "output_type": "stream",
     "text": [
      "        Variable Name  Number Missing Values\n",
      "0  Altitude/Depth (m)                     45\n",
      "1      Hub height (m)                    507\n",
      "2  Number of turbines                    266\n",
      "3    Total power (kW)                     36\n"
     ]
    }
   ],
   "source": [
    "# Review missing vals\n",
    "missing_values = windFarms.isnull().sum().reset_index()\n",
    "missing_values.columns = ['Variable Name', 'Number Missing Values']\n",
    "missing_values = missing_values[missing_values['Number Missing Values'] > 0] \n",
    "\n",
    "#Print all rows with missing values\n",
    "with pd.option_context('display.max_rows', None, 'display.max_columns', 3):\n",
    "    print(missing_values)"
   ]
  },
  {
   "cell_type": "code",
   "execution_count": 36,
   "metadata": {},
   "outputs": [
    {
     "name": "stdout",
     "output_type": "stream",
     "text": [
      "##################################################\n",
      "###              Stats on missing data         ###\n",
      "##################################################\n",
      "No. of rows in windFarmsS:  679\n",
      "No. of Columns in windFarmsS:  123\n",
      "No. of Columns with Missing data:  4\n",
      "No. of Complete data columns:  119\n",
      "No. of Columns with 100% missing Values:  0\n",
      "% of Columns with some Missing data:  3.252 %\n",
      "% of Columns with 100% Missing data:  0.0 %\n",
      " \n",
      "##################################################\n",
      "###        Columns with  missing data      ###\n",
      "##################################################\n",
      "   DataMissing          ColumnName  Missing %\n",
      "0          507      Hub height (m)  74.668630\n",
      "1          266  Number of turbines  39.175258\n",
      "2           45  Altitude/Depth (m)   6.627393\n",
      "3           36    Total power (kW)   5.301915\n"
     ]
    }
   ],
   "source": [
    "#Check for missing values\n",
    "windFarmsS = windFarms.copy()\n",
    "Temp = pd.DataFrame(windFarmsS.isnull().sum())\n",
    "#print(Temp)\n",
    "Temp.columns =['DataMissing']\n",
    "#Columns with at least 1 missing value\n",
    "MissingCount = Temp[Temp.DataMissing>0]\n",
    "\n",
    "#sort \n",
    "MissingCount = MissingCount.sort_values('DataMissing',ascending=False)\n",
    "#basic stats on missing data\n",
    "print(\"##################################################\")\n",
    "print(\"###\", '             Stats on missing data        ',  \"###\")\n",
    "print(\"##################################################\")\n",
    "print('No. of rows in windFarmsS: ',len(windFarmsS))\n",
    "print('No. of Columns in windFarmsS: ',len(windFarmsS.columns))\n",
    "print('No. of Columns with Missing data: ',len(MissingCount))\n",
    "print('No. of Complete data columns: ', len(windFarmsS.columns) - len(MissingCount))\n",
    "print('No. of Columns with 100% missing Values: ',sum(1 for item in MissingCount.DataMissing if item==len(windFarmsS)))\n",
    "print('% of Columns with some Missing data: ',round(float(100*len(MissingCount))/len(windFarmsS.columns),3),'%')\n",
    "print('% of Columns with 100% Missing data: ',round(float(100*sum(1 for item in MissingCount.DataMissing if item==len(windFarmsS)))/len(windFarmsS.columns),3),'%')\n",
    "\n",
    "print(\" \")\n",
    "print(\"##################################################\")\n",
    "print(\"###\",'       Columns with  missing data     ',    \"###\")\n",
    "print(\"##################################################\")\n",
    "#add a columnName for Bar charts plot\n",
    "MissingCount['ColumnName'] = MissingCount.index\n",
    "MissingCount['Missing %'] = 100*(MissingCount.DataMissing/len(windFarmsS))\n",
    "MissingCount = MissingCount.reset_index()\n",
    "del MissingCount['index']\n",
    "print((MissingCount.head(100)))"
   ]
  },
  {
   "cell_type": "markdown",
   "metadata": {},
   "source": [
    "> Missing a lot of Hub height data, future exploration could include researching turbine types and manufacturers to see if these values can be located."
   ]
  },
  {
   "cell_type": "markdown",
   "metadata": {},
   "source": [
    "#### Two different ways of handling missing"
   ]
  },
  {
   "cell_type": "code",
   "execution_count": 37,
   "metadata": {},
   "outputs": [],
   "source": [
    "# Drop missing\n",
    "#windFarms = windFarms.dropna(subset=['Hub height (m)'])\n",
    "windFarms = windFarms.dropna(subset=['Total power (kW)']) #Dropping missing since this is the response"
   ]
  },
  {
   "cell_type": "code",
   "execution_count": 38,
   "metadata": {},
   "outputs": [
    {
     "name": "stdout",
     "output_type": "stream",
     "text": [
      "########################################\n",
      "## continuous and categorical columns ##\n",
      "########################################\n",
      " \n",
      "##############################\n",
      "## NA count Before Cleaning ##\n",
      "##############################\n",
      "Altitude/Depth (m)                             34\n",
      "Hub height (m)                                471\n",
      "Number of turbines                            235\n",
      "Total power (kW)                                0\n",
      "Manufacturer_Adwen                              0\n",
      "Manufacturer_Alstom Power                       0\n",
      "Manufacturer_Areva                              0\n",
      "Manufacturer_Bard                               0\n",
      "Manufacturer_Bonus                              0\n",
      "Manufacturer_CSIC HZ Windpower                  0\n",
      "Manufacturer_China Creative Wind Energy         0\n",
      "Manufacturer_Dongfang Electric Corporation      0\n",
      "Manufacturer_Doosan                             0\n",
      "Manufacturer_Enercon                            0\n",
      "Manufacturer_Envision                           0\n",
      "Manufacturer_GE Energy                          0\n",
      "Manufacturer_Gamesa                             0\n",
      "Manufacturer_Goldwind                           0\n",
      "Manufacturer_Guangdong Mingyang                 0\n",
      "Manufacturer_Guodian United Power               0\n",
      "Manufacturer_Hitachi                            0\n",
      "Manufacturer_Hyosung                            0\n",
      "Manufacturer_Hyundai                            0\n",
      "Manufacturer_JSW                                0\n",
      "Manufacturer_MHI Vestas Offshore                0\n",
      "Manufacturer_Mitsubishi                         0\n",
      "Manufacturer_Nordex                             0\n",
      "Manufacturer_Nordtank                           0\n",
      "Manufacturer_Repower                            0\n",
      "Manufacturer_STX Windpower                      0\n",
      "                                             ... \n",
      "Turbine_Seawind 6                               0\n",
      "Turbine_Subaru 80/2.0                           0\n",
      "Turbine_U57                                     0\n",
      "Turbine_UP136                                   0\n",
      "Turbine_UP86                                    0\n",
      "Turbine_V112/3000 Offshore                      0\n",
      "Turbine_V112/3300                               0\n",
      "Turbine_V112/3450                               0\n",
      "Turbine_V164/8000                               0\n",
      "Turbine_V164/8400                               0\n",
      "Turbine_V164/9500                               0\n",
      "Turbine_V39/500                                 0\n",
      "Turbine_V47/660                                 0\n",
      "Turbine_V80/2000                                0\n",
      "Turbine_V90/2000                                0\n",
      "Turbine_V90/3000                                0\n",
      "Turbine_V90/3000 Offshore                       0\n",
      "Turbine_VM                                      0\n",
      "Turbine_W2000/93                                0\n",
      "Turbine_W3600/116                               0\n",
      "Turbine_WWD-3-100                               0\n",
      "Turbine_WWD-3-90                                0\n",
      "Turbine_WinDS3000/100                           0\n",
      "Turbine_WinDS3000/134                           0\n",
      "Turbine_WinDS3000/91                            0\n",
      "Turbine_XE/DD115                                0\n",
      "Status_Approved                                 0\n",
      "Status_Construction                             0\n",
      "Status_Planned                                  0\n",
      "Status_Production                               0\n",
      "Length: 123, dtype: int64\n",
      "##############################\n",
      "## NA Count After Cleaning  ##\n",
      "##############################\n",
      "Altitude/Depth (m)                            0\n",
      "Hub height (m)                                0\n",
      "Number of turbines                            0\n",
      "Total power (kW)                              0\n",
      "Manufacturer_Adwen                            0\n",
      "Manufacturer_Alstom Power                     0\n",
      "Manufacturer_Areva                            0\n",
      "Manufacturer_Bard                             0\n",
      "Manufacturer_Bonus                            0\n",
      "Manufacturer_CSIC HZ Windpower                0\n",
      "Manufacturer_China Creative Wind Energy       0\n",
      "Manufacturer_Dongfang Electric Corporation    0\n",
      "Manufacturer_Doosan                           0\n",
      "Manufacturer_Enercon                          0\n",
      "Manufacturer_Envision                         0\n",
      "Manufacturer_GE Energy                        0\n",
      "Manufacturer_Gamesa                           0\n",
      "Manufacturer_Goldwind                         0\n",
      "Manufacturer_Guangdong Mingyang               0\n",
      "Manufacturer_Guodian United Power             0\n",
      "Manufacturer_Hitachi                          0\n",
      "Manufacturer_Hyosung                          0\n",
      "Manufacturer_Hyundai                          0\n",
      "Manufacturer_JSW                              0\n",
      "Manufacturer_MHI Vestas Offshore              0\n",
      "Manufacturer_Mitsubishi                       0\n",
      "Manufacturer_Nordex                           0\n",
      "Manufacturer_Nordtank                         0\n",
      "Manufacturer_Repower                          0\n",
      "Manufacturer_STX Windpower                    0\n",
      "                                             ..\n",
      "Turbine_Seawind 6                             0\n",
      "Turbine_Subaru 80/2.0                         0\n",
      "Turbine_U57                                   0\n",
      "Turbine_UP136                                 0\n",
      "Turbine_UP86                                  0\n",
      "Turbine_V112/3000 Offshore                    0\n",
      "Turbine_V112/3300                             0\n",
      "Turbine_V112/3450                             0\n",
      "Turbine_V164/8000                             0\n",
      "Turbine_V164/8400                             0\n",
      "Turbine_V164/9500                             0\n",
      "Turbine_V39/500                               0\n",
      "Turbine_V47/660                               0\n",
      "Turbine_V80/2000                              0\n",
      "Turbine_V90/2000                              0\n",
      "Turbine_V90/3000                              0\n",
      "Turbine_V90/3000 Offshore                     0\n",
      "Turbine_VM                                    0\n",
      "Turbine_W2000/93                              0\n",
      "Turbine_W3600/116                             0\n",
      "Turbine_WWD-3-100                             0\n",
      "Turbine_WWD-3-90                              0\n",
      "Turbine_WinDS3000/100                         0\n",
      "Turbine_WinDS3000/134                         0\n",
      "Turbine_WinDS3000/91                          0\n",
      "Turbine_XE/DD115                              0\n",
      "Status_Approved                               0\n",
      "Status_Construction                           0\n",
      "Status_Planned                                0\n",
      "Status_Production                             0\n",
      "Length: 123, dtype: int64\n",
      "<class 'pandas.core.frame.DataFrame'>\n",
      "Int64Index: 643 entries, 0 to 723\n",
      "Columns: 123 entries, Altitude/Depth (m) to Status_Production\n",
      "dtypes: float64(4), uint8(119)\n",
      "memory usage: 99.8 KB\n"
     ]
    }
   ],
   "source": [
    "# Fill in missing with avg\n",
    "#this function replaces NA's for columns with continous 'Con' (int or float) variables with median and categorical 'Cat' variable(bool or object) with mode\n",
    "def ReplaceMissingdata(df):\n",
    "    temp_df = df.copy() \n",
    "    print(\"########################################\")\n",
    "    print(\"## continuous and categorical columns ##\")\n",
    "    print(\"########################################\")\n",
    "    temp  = df.select_dtypes(include=['int64','float'])    #continuous values columns\n",
    "    columnnames = temp.columns\n",
    "    temp1  = df.select_dtypes(include=['object','bool']) #categorical values columns\n",
    "    columnnames1 = temp1.columns\n",
    "    print(\" \")\n",
    "    \n",
    "    print(\"##############################\")\n",
    "    print(\"## NA count Before Cleaning ##\")\n",
    "    print(\"##############################\")\n",
    "    print(df.isnull().sum())\n",
    "    #replacing missing continous values with median\n",
    "    for i in range(0,len(columnnames)):\n",
    "        try:\n",
    "            temp_array =temp[temp[columnnames[i]]!=np.nan][columnnames[i]] #temp array of non NAs for continous values to calculate median\n",
    "            # replace NAs with median for continous variables created from above arrays\n",
    "            temp_df[columnnames[i]] =temp_df[columnnames[i]].replace(np.nan,temp_array.median())     \n",
    "        except Exception as e:\n",
    "            print(e.args) \n",
    "            \n",
    "    #replacing missing contegorical values with mode\n",
    "    for i in range(0,len(columnnames1)):\n",
    "        try:\n",
    "            temp_array1 =temp1[temp1[columnnames1[i]]!=np.nan][columnnames1[i]] #temp array of non NAs for categorical values to calculate mode\n",
    "            # replace NAs with median for categorical values created from above arrays with mode\n",
    "            temp_df[columnnames1[i]] =temp_df[columnnames1[i]].replace(np.nan,str(temp_array1.mode()[0]))      \n",
    "        except Exception as e:\n",
    "            print(e.args)\n",
    "\n",
    "    print(\"##############################\")\n",
    "    print(\"## NA Count After Cleaning  ##\")\n",
    "    print(\"##############################\")\n",
    "    print(temp_df.isnull().sum())\n",
    "    df = temp_df\n",
    "    return df\n",
    "\n",
    "windFarms_Clean = ReplaceMissingdata(windFarms)    \n",
    "\n",
    "windFarms_Clean.info()"
   ]
  },
  {
   "cell_type": "code",
   "execution_count": 39,
   "metadata": {},
   "outputs": [],
   "source": [
    "# Scale data\n",
    "# Tried scaling, results were much worse\n",
    "\n",
    "## Hub height (m)\n",
    "#windFarms_Clean['Hub height (m)'] = preprocessing.scale(windFarms_Clean['Hub height (m)'])\n",
    "## Number of Turbines\n",
    "#windFarms_Clean['Number of turbines'] = preprocessing.scale(windFarms_Clean['Number of turbines'])\n",
    "## Total Power kW\n",
    "#windFarms_Clean['Total power (kW)'] = preprocessing.scale(windFarms_Clean['Total power (kW)'])\n",
    "## Altitude/Depth (m)\n",
    "#windFarms_Clean['Altitude/Depth (m)'] = preprocessing.scale(windFarms_Clean['Altitude/Depth (m)'])"
   ]
  },
  {
   "cell_type": "code",
   "execution_count": 40,
   "metadata": {},
   "outputs": [
    {
     "data": {
      "text/plain": [
       "(643, 123)"
      ]
     },
     "execution_count": 40,
     "metadata": {},
     "output_type": "execute_result"
    }
   ],
   "source": [
    "windFarms_Clean.shape"
   ]
  },
  {
   "cell_type": "code",
   "execution_count": 41,
   "metadata": {},
   "outputs": [],
   "source": [
    "## Correlation matrix: Didn't run in final report because it changes the format of other graphics, not very helpful anyway\n",
    "\n",
    "#%%time\n",
    "#%matplotlib inline\n",
    "#temp = windFarms_Clean.select_dtypes(include=['int','float', 'uint8']) # select int to run corr on\n",
    "#print(temp.shape)\n",
    "#\n",
    "## calculate the correlation matrix\n",
    "#corr_matrix  = temp.corr()#.abs()\n",
    "#\n",
    "## Select upper triangle of correlation matrix\n",
    "#upper = corr_matrix.where(np.triu(np.ones(corr_matrix.shape), k=1).astype(np.bool))\n",
    "#\n",
    "## Find index of feature columns with correlation greater than 0.95\n",
    "#to_drop = [column for column in upper.columns if any(upper[column] > 0.05)]\n",
    "#\n",
    "#fig, ax = plt.subplots(figsize=(60,60))\n",
    "#sns.set(font_scale=3)\n",
    "#sns.heatmap(upper[to_drop], \n",
    "#            #xticklabels=upper[to_drop].columns.values,\n",
    "#            #yticklabels=upper[to_drop].columns.values,\n",
    "#            linewidths=.5, ax=ax)"
   ]
  },
  {
   "cell_type": "code",
   "execution_count": 42,
   "metadata": {},
   "outputs": [],
   "source": [
    "windFarms_Final = windFarms_Clean.copy()"
   ]
  },
  {
   "cell_type": "code",
   "execution_count": 43,
   "metadata": {},
   "outputs": [
    {
     "data": {
      "text/plain": [
       "(643, 123)"
      ]
     },
     "execution_count": 43,
     "metadata": {},
     "output_type": "execute_result"
    }
   ],
   "source": [
    "windFarms_Final.shape"
   ]
  },
  {
   "cell_type": "markdown",
   "metadata": {},
   "source": [
    "## Modeling"
   ]
  },
  {
   "cell_type": "markdown",
   "metadata": {},
   "source": [
    "### Linear Regression"
   ]
  },
  {
   "cell_type": "code",
   "execution_count": 44,
   "metadata": {},
   "outputs": [
    {
     "name": "stdout",
     "output_type": "stream",
     "text": [
      "(643, 3)\n",
      "(643,)\n"
     ]
    }
   ],
   "source": [
    "# Two methods: \n",
    "#   1) Use all variables\n",
    "#   2) Select only certain variables\n",
    "\n",
    "### All variables\n",
    "## Drop response var from dataset\n",
    "#modelingData = windFarms_Final.copy()\n",
    "#modelingData.pop('Total power (kW)')\n",
    "#print(modelingData.shape)\n",
    "#y = windFarms_Final['Total power (kW)']\n",
    "#print(y.shape)\n",
    "\n",
    "\n",
    "### Only some variables (better model)\n",
    "modelingData = windFarms_Final[['Number of turbines', 'Altitude/Depth (m)', 'Hub height (m)']]\n",
    "print(modelingData.shape)\n",
    "y = windFarms_Final['Total power (kW)']\n",
    "print(y.shape)"
   ]
  },
  {
   "cell_type": "code",
   "execution_count": 45,
   "metadata": {},
   "outputs": [
    {
     "name": "stdout",
     "output_type": "stream",
     "text": [
      "(450, 3) (450,)\n",
      "(193, 3) (193,)\n"
     ]
    }
   ],
   "source": [
    "# create training and testing vars\n",
    "X_train, X_test, y_train, y_test = train_test_split(modelingData, y, test_size=0.3)\n",
    "print(X_train.shape, y_train.shape)\n",
    "print(X_test.shape, y_test.shape)"
   ]
  },
  {
   "cell_type": "code",
   "execution_count": 46,
   "metadata": {},
   "outputs": [],
   "source": [
    "# fit a model\n",
    "lm = linear_model.LinearRegression()\n",
    "model = lm.fit(X_train, y_train)\n",
    "predictions = lm.predict(X_test)"
   ]
  },
  {
   "cell_type": "code",
   "execution_count": 47,
   "metadata": {},
   "outputs": [
    {
     "data": {
      "text/plain": [
       "array([ 11.82441716,   8.04245574,  10.02191741,  13.31426425,   9.90710374])"
      ]
     },
     "execution_count": 47,
     "metadata": {},
     "output_type": "execute_result"
    }
   ],
   "source": [
    "predictions[0:5]"
   ]
  },
  {
   "cell_type": "code",
   "execution_count": 48,
   "metadata": {},
   "outputs": [
    {
     "data": {
      "image/png": "[encoded data removed]",
      "text/plain": [
       "<matplotlib.figure.Figure at 0x218bfd47fd0>"
      ]
     },
     "metadata": {},
     "output_type": "display_data"
    },
    {
     "name": "stdout",
     "output_type": "stream",
     "text": [
      "Score: 0.766435397871\n"
     ]
    }
   ],
   "source": [
    "## The line / model\n",
    "plt.scatter(y_test, predictions)\n",
    "plt.xlabel('True Values')\n",
    "plt.ylabel('Predictions')\n",
    "plt.show()\n",
    "print('Score:', model.score(X_test, y_test))"
   ]
  },
  {
   "cell_type": "code",
   "execution_count": 49,
   "metadata": {},
   "outputs": [
    {
     "name": "stdout",
     "output_type": "stream",
     "text": [
      "Cross-validated scores: [ 0.8066399   0.5962648   0.68254753  0.76060458  0.78903679  0.66000909]\n"
     ]
    }
   ],
   "source": [
    "## Cross val\n",
    "# Perform 6-fold cross validation\n",
    "scores = cross_val_score(model, modelingData, y, cv=6)\n",
    "print('Cross-validated scores:', scores)"
   ]
  },
  {
   "cell_type": "code",
   "execution_count": 50,
   "metadata": {},
   "outputs": [
    {
     "data": {
      "image/png": "[encoded data removed]",
      "text/plain": [
       "<matplotlib.figure.Figure at 0x218bfe38550>"
      ]
     },
     "metadata": {},
     "output_type": "display_data"
    }
   ],
   "source": [
    "# Make cross validated predictions\n",
    "predictions = cross_val_predict(model, modelingData, y, cv=6)\n",
    "plt.scatter(y, predictions)\n",
    "plt.show()"
   ]
  },
  {
   "cell_type": "code",
   "execution_count": 51,
   "metadata": {},
   "outputs": [
    {
     "name": "stdout",
     "output_type": "stream",
     "text": [
      "Cross-Predicted Accuracy: 0.729397999055\n"
     ]
    }
   ],
   "source": [
    "accuracy = metrics.r2_score(y, predictions)\n",
    "print('Cross-Predicted Accuracy:', accuracy)"
   ]
  },
  {
   "cell_type": "code",
   "execution_count": 52,
   "metadata": {},
   "outputs": [
    {
     "name": "stdout",
     "output_type": "stream",
     "text": [
      "[ 1.09548608 -0.00760733  0.01626902]\n",
      "Number of turbines    1.420649\n",
      "Altitude/Depth (m)   -0.159753\n",
      "Hub height (m)        0.161970\n",
      "dtype: float64\n"
     ]
    }
   ],
   "source": [
    "print(lm.coef_)\n",
    "print(np.std(X_train,0)*lm.coef_)"
   ]
  },
  {
   "cell_type": "markdown",
   "metadata": {},
   "source": [
    "### Perceptron Clustering"
   ]
  },
  {
   "cell_type": "markdown",
   "metadata": {},
   "source": [
    "For clustering, I will be binning average turbine power output and attempt to predict by bin.\n",
    "\n",
    "To do this, I will first create the target variable by getting the average power output for a single turbine."
   ]
  },
  {
   "cell_type": "code",
   "execution_count": 54,
   "metadata": {},
   "outputs": [],
   "source": [
    "windFarms_Final_Bin = windFarms_Final.copy()\n",
    "windFarms_Final_Bin['Output/turbine'] = np.where(windFarms_Final_Bin['Number of turbines'] < 1, \n",
    "                                             windFarms_Final_Bin['Number of turbines'], \n",
    "                                             windFarms_Final_Bin['Total power (kW)']/windFarms_Final_Bin['Number of turbines'])"
   ]
  },
  {
   "cell_type": "code",
   "execution_count": 55,
   "metadata": {},
   "outputs": [
    {
     "data": {
      "text/plain": [
       "(643, 124)"
      ]
     },
     "execution_count": 55,
     "metadata": {},
     "output_type": "execute_result"
    }
   ],
   "source": [
    "windFarms_Final_Bin.shape"
   ]
  },
  {
   "cell_type": "code",
   "execution_count": 56,
   "metadata": {},
   "outputs": [
    {
     "data": {
      "image/png": "[encoded data removed]",
      "text/plain": [
       "<matplotlib.figure.Figure at 0x218bff28cf8>"
      ]
     },
     "metadata": {},
     "output_type": "display_data"
    }
   ],
   "source": [
    "plt.hist(windFarms_Final_Bin['Output/turbine'])\n",
    "plt.show()"
   ]
  },
  {
   "cell_type": "code",
   "execution_count": 57,
   "metadata": {},
   "outputs": [
    {
     "data": {
      "image/png": "[encoded data removed]",
      "text/plain": [
       "<matplotlib.figure.Figure at 0x218c0011278>"
      ]
     },
     "metadata": {},
     "output_type": "display_data"
    }
   ],
   "source": [
    "plt.boxplot(windFarms_Final_Bin['Output/turbine'])\n",
    "plt.show()"
   ]
  },
  {
   "cell_type": "markdown",
   "metadata": {},
   "source": [
    "> Using this new variable, I will bin the different power outputs:\n",
    "\n",
    "    1) < 2   kw/turbine < 7.4\n",
    "    2) 2-3   kw/turbine 7.4 - 20\n",
    "    3) 3-4   kw/turbine 20.1 - 54.6\n",
    "    4) 4-5   kw/turbine 54.7 - 148.4\n",
    "    5) > 5   kw/turbine > 148.4 "
   ]
  },
  {
   "cell_type": "code",
   "execution_count": 58,
   "metadata": {},
   "outputs": [],
   "source": [
    "windFarms_Final_Bin['Output Bin'] = np.where(windFarms_Final_Bin['Output/turbine'] <= 2, 1, \n",
    "                                          np.where(np.logical_and(windFarms_Final_Bin['Output/turbine'] > 2, \n",
    "                                                           windFarms_Final_Bin['Output/turbine'] <= 3), 2, \n",
    "                                                           np.where(np.logical_and(windFarms_Final_Bin['Output/turbine'] > 3,\n",
    "                                                                        windFarms_Final_Bin['Output/turbine'] <= 4), 3, \n",
    "                                                                        np.where(np.logical_and(windFarms_Final_Bin['Output/turbine'] > 4,\n",
    "                                                                                       windFarms_Final_Bin['Output/turbine'] <= 5), 4, 5))))"
   ]
  },
  {
   "cell_type": "code",
   "execution_count": 59,
   "metadata": {},
   "outputs": [
    {
     "data": {
      "text/html": [
       "<div>\n",
       "<style>\n",
       "    .dataframe thead tr:only-child th {\n",
       "        text-align: right;\n",
       "    }\n",
       "\n",
       "    .dataframe thead th {\n",
       "        text-align: left;\n",
       "    }\n",
       "\n",
       "    .dataframe tbody tr th {\n",
       "        vertical-align: top;\n",
       "    }\n",
       "</style>\n",
       "<table border=\"1\" class=\"dataframe\">\n",
       "  <thead>\n",
       "    <tr style=\"text-align: right;\">\n",
       "      <th></th>\n",
       "      <th>Output Bin</th>\n",
       "      <th>counts</th>\n",
       "    </tr>\n",
       "  </thead>\n",
       "  <tbody>\n",
       "    <tr>\n",
       "      <th>0</th>\n",
       "      <td>1</td>\n",
       "      <td>66</td>\n",
       "    </tr>\n",
       "    <tr>\n",
       "      <th>1</th>\n",
       "      <td>2</td>\n",
       "      <td>134</td>\n",
       "    </tr>\n",
       "    <tr>\n",
       "      <th>2</th>\n",
       "      <td>3</td>\n",
       "      <td>349</td>\n",
       "    </tr>\n",
       "    <tr>\n",
       "      <th>3</th>\n",
       "      <td>4</td>\n",
       "      <td>52</td>\n",
       "    </tr>\n",
       "    <tr>\n",
       "      <th>4</th>\n",
       "      <td>5</td>\n",
       "      <td>42</td>\n",
       "    </tr>\n",
       "  </tbody>\n",
       "</table>\n",
       "</div>"
      ],
      "text/plain": [
       "   Output Bin  counts\n",
       "0           1      66\n",
       "1           2     134\n",
       "2           3     349\n",
       "3           4      52\n",
       "4           5      42"
      ]
     },
     "execution_count": 59,
     "metadata": {},
     "output_type": "execute_result"
    }
   ],
   "source": [
    "# Check to see how many observations are in each bin\n",
    "BinCounts = windFarms_Final_Bin.copy()\n",
    "BinCounts.groupby(['Output Bin']).size().reset_index(name='counts')"
   ]
  },
  {
   "cell_type": "code",
   "execution_count": 60,
   "metadata": {},
   "outputs": [
    {
     "data": {
      "text/html": [
       "<div>\n",
       "<style>\n",
       "    .dataframe thead tr:only-child th {\n",
       "        text-align: right;\n",
       "    }\n",
       "\n",
       "    .dataframe thead th {\n",
       "        text-align: left;\n",
       "    }\n",
       "\n",
       "    .dataframe tbody tr th {\n",
       "        vertical-align: top;\n",
       "    }\n",
       "</style>\n",
       "<table border=\"1\" class=\"dataframe\">\n",
       "  <thead>\n",
       "    <tr style=\"text-align: right;\">\n",
       "      <th></th>\n",
       "      <th>Altitude/Depth (m)</th>\n",
       "      <th>Hub height (m)</th>\n",
       "      <th>Number of turbines</th>\n",
       "      <th>Total power (kW)</th>\n",
       "      <th>Manufacturer_Adwen</th>\n",
       "      <th>Manufacturer_Alstom Power</th>\n",
       "      <th>Manufacturer_Areva</th>\n",
       "      <th>Manufacturer_Bard</th>\n",
       "      <th>Manufacturer_Bonus</th>\n",
       "      <th>Manufacturer_CSIC HZ Windpower</th>\n",
       "      <th>...</th>\n",
       "      <th>Turbine_WinDS3000/100</th>\n",
       "      <th>Turbine_WinDS3000/134</th>\n",
       "      <th>Turbine_WinDS3000/91</th>\n",
       "      <th>Turbine_XE/DD115</th>\n",
       "      <th>Status_Approved</th>\n",
       "      <th>Status_Construction</th>\n",
       "      <th>Status_Planned</th>\n",
       "      <th>Status_Production</th>\n",
       "      <th>Output/turbine</th>\n",
       "      <th>Output Bin</th>\n",
       "    </tr>\n",
       "  </thead>\n",
       "  <tbody>\n",
       "    <tr>\n",
       "      <th>0</th>\n",
       "      <td>-15.0</td>\n",
       "      <td>94.0</td>\n",
       "      <td>1.791759</td>\n",
       "      <td>10.323841</td>\n",
       "      <td>0</td>\n",
       "      <td>0</td>\n",
       "      <td>0</td>\n",
       "      <td>0</td>\n",
       "      <td>0</td>\n",
       "      <td>0</td>\n",
       "      <td>...</td>\n",
       "      <td>0</td>\n",
       "      <td>0</td>\n",
       "      <td>0</td>\n",
       "      <td>0</td>\n",
       "      <td>0</td>\n",
       "      <td>0</td>\n",
       "      <td>0</td>\n",
       "      <td>1</td>\n",
       "      <td>5.761846</td>\n",
       "      <td>5</td>\n",
       "    </tr>\n",
       "    <tr>\n",
       "      <th>1</th>\n",
       "      <td>-5.0</td>\n",
       "      <td>64.0</td>\n",
       "      <td>2.995732</td>\n",
       "      <td>10.596635</td>\n",
       "      <td>0</td>\n",
       "      <td>0</td>\n",
       "      <td>0</td>\n",
       "      <td>0</td>\n",
       "      <td>1</td>\n",
       "      <td>0</td>\n",
       "      <td>...</td>\n",
       "      <td>0</td>\n",
       "      <td>0</td>\n",
       "      <td>0</td>\n",
       "      <td>0</td>\n",
       "      <td>0</td>\n",
       "      <td>0</td>\n",
       "      <td>0</td>\n",
       "      <td>1</td>\n",
       "      <td>3.537244</td>\n",
       "      <td>3</td>\n",
       "    </tr>\n",
       "    <tr>\n",
       "      <th>2</th>\n",
       "      <td>0.0</td>\n",
       "      <td>90.0</td>\n",
       "      <td>0.000000</td>\n",
       "      <td>8.006368</td>\n",
       "      <td>0</td>\n",
       "      <td>0</td>\n",
       "      <td>0</td>\n",
       "      <td>0</td>\n",
       "      <td>0</td>\n",
       "      <td>0</td>\n",
       "      <td>...</td>\n",
       "      <td>0</td>\n",
       "      <td>0</td>\n",
       "      <td>0</td>\n",
       "      <td>0</td>\n",
       "      <td>0</td>\n",
       "      <td>0</td>\n",
       "      <td>0</td>\n",
       "      <td>1</td>\n",
       "      <td>0.000000</td>\n",
       "      <td>1</td>\n",
       "    </tr>\n",
       "    <tr>\n",
       "      <th>4</th>\n",
       "      <td>-4.0</td>\n",
       "      <td>65.0</td>\n",
       "      <td>1.945910</td>\n",
       "      <td>9.259131</td>\n",
       "      <td>0</td>\n",
       "      <td>0</td>\n",
       "      <td>0</td>\n",
       "      <td>0</td>\n",
       "      <td>0</td>\n",
       "      <td>0</td>\n",
       "      <td>...</td>\n",
       "      <td>0</td>\n",
       "      <td>0</td>\n",
       "      <td>0</td>\n",
       "      <td>0</td>\n",
       "      <td>0</td>\n",
       "      <td>0</td>\n",
       "      <td>0</td>\n",
       "      <td>1</td>\n",
       "      <td>4.758252</td>\n",
       "      <td>4</td>\n",
       "    </tr>\n",
       "    <tr>\n",
       "      <th>6</th>\n",
       "      <td>-10.0</td>\n",
       "      <td>69.0</td>\n",
       "      <td>2.708050</td>\n",
       "      <td>10.448715</td>\n",
       "      <td>0</td>\n",
       "      <td>0</td>\n",
       "      <td>0</td>\n",
       "      <td>0</td>\n",
       "      <td>0</td>\n",
       "      <td>0</td>\n",
       "      <td>...</td>\n",
       "      <td>0</td>\n",
       "      <td>0</td>\n",
       "      <td>0</td>\n",
       "      <td>0</td>\n",
       "      <td>0</td>\n",
       "      <td>0</td>\n",
       "      <td>0</td>\n",
       "      <td>1</td>\n",
       "      <td>3.858390</td>\n",
       "      <td>3</td>\n",
       "    </tr>\n",
       "  </tbody>\n",
       "</table>\n",
       "<p>5 rows × 125 columns</p>\n",
       "</div>"
      ],
      "text/plain": [
       "   Altitude/Depth (m)  Hub height (m)  Number of turbines  Total power (kW)  \\\n",
       "0               -15.0            94.0            1.791759         10.323841   \n",
       "1                -5.0            64.0            2.995732         10.596635   \n",
       "2                 0.0            90.0            0.000000          8.006368   \n",
       "4                -4.0            65.0            1.945910          9.259131   \n",
       "6               -10.0            69.0            2.708050         10.448715   \n",
       "\n",
       "   Manufacturer_Adwen  Manufacturer_Alstom Power  Manufacturer_Areva  \\\n",
       "0                   0                          0                   0   \n",
       "1                   0                          0                   0   \n",
       "2                   0                          0                   0   \n",
       "4                   0                          0                   0   \n",
       "6                   0                          0                   0   \n",
       "\n",
       "   Manufacturer_Bard  Manufacturer_Bonus  Manufacturer_CSIC HZ Windpower  \\\n",
       "0                  0                   0                               0   \n",
       "1                  0                   1                               0   \n",
       "2                  0                   0                               0   \n",
       "4                  0                   0                               0   \n",
       "6                  0                   0                               0   \n",
       "\n",
       "      ...      Turbine_WinDS3000/100  Turbine_WinDS3000/134  \\\n",
       "0     ...                          0                      0   \n",
       "1     ...                          0                      0   \n",
       "2     ...                          0                      0   \n",
       "4     ...                          0                      0   \n",
       "6     ...                          0                      0   \n",
       "\n",
       "   Turbine_WinDS3000/91  Turbine_XE/DD115  Status_Approved  \\\n",
       "0                     0                 0                0   \n",
       "1                     0                 0                0   \n",
       "2                     0                 0                0   \n",
       "4                     0                 0                0   \n",
       "6                     0                 0                0   \n",
       "\n",
       "   Status_Construction  Status_Planned  Status_Production  Output/turbine  \\\n",
       "0                    0               0                  1        5.761846   \n",
       "1                    0               0                  1        3.537244   \n",
       "2                    0               0                  1        0.000000   \n",
       "4                    0               0                  1        4.758252   \n",
       "6                    0               0                  1        3.858390   \n",
       "\n",
       "   Output Bin  \n",
       "0           5  \n",
       "1           3  \n",
       "2           1  \n",
       "4           4  \n",
       "6           3  \n",
       "\n",
       "[5 rows x 125 columns]"
      ]
     },
     "execution_count": 60,
     "metadata": {},
     "output_type": "execute_result"
    }
   ],
   "source": [
    "# Check to see if Bin variables were created correctly\n",
    "windFarms_Final_Bin.head()"
   ]
  },
  {
   "cell_type": "markdown",
   "metadata": {},
   "source": [
    "> Now that we have our bins, we will create our clustering model"
   ]
  },
  {
   "cell_type": "code",
   "execution_count": 61,
   "metadata": {},
   "outputs": [
    {
     "name": "stdout",
     "output_type": "stream",
     "text": [
      "(643, 123)\n",
      "(643,)\n"
     ]
    }
   ],
   "source": [
    "# Two methods: \n",
    "#   1) Use all variables\n",
    "#   2) Select only certain variables\n",
    "\n",
    "### All variables\n",
    "## Drop response var and output/turbine var from dataset\n",
    "clustering_model1 = windFarms_Final_Bin.copy()\n",
    "clustering_model1.pop('Output/turbine')\n",
    "clustering_model1.pop('Output Bin')\n",
    "print(clustering_model1.shape)\n",
    "y = windFarms_Final_Bin['Output Bin']\n",
    "print(y.shape)\n",
    "\n",
    "### Only some variables\n",
    "#clustering_model1 = clustering_model[['Altitude/Depth (m)', 'Hub height (m)']]\n",
    "#print(clustering_model1.shape)\n",
    "#y = clustering_model['Output Bin']\n",
    "#print(y.shape)"
   ]
  },
  {
   "cell_type": "code",
   "execution_count": 74,
   "metadata": {},
   "outputs": [
    {
     "name": "stdout",
     "output_type": "stream",
     "text": [
      "(450, 123) (450,)\n",
      "(193, 123) (193,)\n"
     ]
    }
   ],
   "source": [
    "# create training and testing vars\n",
    "X_train, X_test, y_train, y_test = train_test_split(clustering_model1, y, test_size=0.3)\n",
    "print(X_train.shape, y_train.shape)\n",
    "print(X_test.shape, y_test.shape)"
   ]
  },
  {
   "cell_type": "code",
   "execution_count": 75,
   "metadata": {},
   "outputs": [],
   "source": [
    "# Scaling\n",
    "sc = StandardScaler()\n",
    "sc.fit(X_train)\n",
    "X_train_std = sc.transform(X_train)\n",
    "X_test_std = sc.transform(X_test)"
   ]
  },
  {
   "cell_type": "code",
   "execution_count": 76,
   "metadata": {},
   "outputs": [
    {
     "name": "stderr",
     "output_type": "stream",
     "text": [
      "C:\\Users\\ahancock\\AppData\\Local\\Continuum\\anaconda3\\lib\\site-packages\\sklearn\\linear_model\\stochastic_gradient.py:117: DeprecationWarning: n_iter parameter is deprecated in 0.19 and will be removed in 0.21. Use max_iter and tol instead.\n",
      "  DeprecationWarning)\n"
     ]
    },
    {
     "data": {
      "text/plain": [
       "Perceptron(alpha=0.0001, class_weight=None, eta0=0.1, fit_intercept=True,\n",
       "      max_iter=None, n_iter=40, n_jobs=1, penalty=None, random_state=0,\n",
       "      shuffle=True, tol=None, verbose=0, warm_start=False)"
      ]
     },
     "execution_count": 76,
     "metadata": {},
     "output_type": "execute_result"
    }
   ],
   "source": [
    "# After standardizing, we now tain a perceptron model\n",
    "ppn = Perceptron(n_iter=40, eta0=0.1, random_state=0)\n",
    "ppn.fit(X_train_std, y_train)"
   ]
  },
  {
   "cell_type": "code",
   "execution_count": 77,
   "metadata": {},
   "outputs": [
    {
     "name": "stdout",
     "output_type": "stream",
     "text": [
      "Misclassified samples: 46\n",
      "Accuracy: 0.76\n"
     ]
    }
   ],
   "source": [
    "# Use this model to make predictions\n",
    "y_pred = ppn.predict(X_test_std)\n",
    "print('Misclassified samples: %d' % (y_test != y_pred).sum())\n",
    "print('Accuracy: %.2f' % accuracy_score(y_test, y_pred))"
   ]
  },
  {
   "cell_type": "markdown",
   "metadata": {},
   "source": [
    "> Of our 192 training samples, only 47 are missclassified giving us an accuracy score of 76%."
   ]
  },
  {
   "cell_type": "code",
   "execution_count": 78,
   "metadata": {},
   "outputs": [
    {
     "data": {
      "image/png": "[encoded data removed]",
      "text/plain": [
       "<matplotlib.figure.Figure at 0x218c00add68>"
      ]
     },
     "metadata": {},
     "output_type": "display_data"
    }
   ],
   "source": [
    "confmat = confusion_matrix(y_true = y_test, y_pred = y_pred)\n",
    "#print(confmat)\n",
    "fig, ax = plt.subplots(figsize=(10, 10))\n",
    "ax.matshow(confmat, cmap=plt.cm.Blues, alpha=0.3)\n",
    "for i in range(confmat.shape[0]):\n",
    "    for j in range(confmat.shape[1]):\n",
    "        ax.text(x=j, y=i,\n",
    "                s=confmat[i, j],\n",
    "                va='center', ha='center')\n",
    "plt.xlabel('predicted label')\n",
    "plt.ylabel('true label')\n",
    "plt.show()"
   ]
  },
  {
   "cell_type": "code",
   "execution_count": 58,
   "metadata": {},
   "outputs": [],
   "source": [
    "# Visualize decision regions\n",
    "## Note: Only run for testing of two vars ('Altitude/Depth (m)', 'Hub height (m)')\n",
    "\n",
    "#def plot_decision_regions(X, y, classifier, test_idx = None, resolution = 0.02):\n",
    "    # setup marker generator and color map\n",
    "#    markers = ['s', 'x', 'o', '8', '^', 'v']\n",
    "#    colors = ['red', 'blue', 'lightgreen', 'yellow', 'gray', 'cyan']\n",
    "#    cmap = ListedColormap(colors[:len(np.unique(y))])\n",
    "    \n",
    "    # plot the decision surface\n",
    "#    x1_min, x1_max = X[:, 0].min() - 1, X[:, 0].max() + 1\n",
    "#    x2_min, x2_max = X[:, 1].min() - 1, X[:, 1].max() + 1\n",
    "#    xx1, xx2 = np.meshgrid(np.arange(x1_min, x1_max, resolution),\n",
    "#                           np.arange(x2_min, x2_max, resolution))\n",
    "#    Z = classifier.predict(np.array([xx1.ravel(), xx2.ravel()]).T)\n",
    "#    Z = Z.reshape(xx1.shape)\n",
    "#    plt.contourf(xx1, xx2, Z, alpha=0.4, cmap = cmap)\n",
    "#    plt.xlim(xx1.min(), xx1.max())\n",
    "#    plt.ylim(xx2.min(), xx2.max())\n",
    "    \n",
    "    # plot all samples\n",
    "#    for idx, cl in enumerate(np.unique(y)):\n",
    "#        plt.scatter(x = X[y == cl, 0], y = X[y == cl, 1],\n",
    "#                    alpha = 0.8, c=cmap(idx),\n",
    "#                   marker = markers[idx], label = cl)\n",
    "    \n",
    "    # highlight test samples\n",
    "#    if test_idx:\n",
    "#        X_test, y_test = X[test_idx, :], y[test_idx]\n",
    "#        plt.scatter(X_test[:, 0], X_test[:, 1], c = '',\n",
    "#                    alpha = 1.0, linewidths = 1, marker = 'o',\n",
    "#                    s = 55, label = 'test set')\n",
    "        \n",
    "\n",
    "#X_combined_std = np.vstack((X_train_std, X_test_std))\n",
    "#y_combined = np.hstack((y_train, y_test))\n",
    "#plot_decision_regions(X = X_combined_std,\n",
    "#                      y = y_combined,\n",
    "#                      classifier = ppn,\n",
    "#                      test_idx = range(105, 150))\n",
    "#plt.show()"
   ]
  },
  {
   "cell_type": "markdown",
   "metadata": {},
   "source": [
    "### Support Vector Regression"
   ]
  },
  {
   "cell_type": "code",
   "execution_count": 142,
   "metadata": {},
   "outputs": [
    {
     "name": "stdout",
     "output_type": "stream",
     "text": [
      "(643, 123)\n",
      "(643,)\n",
      "(450, 123) (450,)\n",
      "(193, 123) (193,)\n"
     ]
    },
    {
     "data": {
      "text/plain": [
       "0.13001156310932294"
      ]
     },
     "execution_count": 142,
     "metadata": {},
     "output_type": "execute_result"
    }
   ],
   "source": [
    "from sklearn import svm\n",
    "SVR_model = windFarms_Final_Bin.copy()\n",
    "SVR_model.pop('Output/turbine')\n",
    "SVR_model.pop('Output Bin')\n",
    "print(SVR_model.shape)\n",
    "y = windFarms_Final_Bin['Output/turbine']\n",
    "print(y.shape)\n",
    "\n",
    "\n",
    "# create training and testing vars\n",
    "X_train, X_test, y_train, y_test = train_test_split(SVR_model, y, test_size=0.3)\n",
    "print(X_train.shape, y_train.shape)\n",
    "print(X_test.shape, y_test.shape)\n",
    "\n",
    "\n",
    "\n",
    "clf = svm.SVR(C=1.0, cache_size=200, coef0=0.0, degree=3, epsilon=0.1, gamma='auto',\n",
    "            kernel='rbf', max_iter=-1, shrinking=True, tol=0.001, verbose=False)\n",
    "clf.fit(X_train, y_train) \n",
    "\n",
    "clf.predict(X_test)\n",
    "clf.score(X_test, y_test)"
   ]
  },
  {
   "cell_type": "markdown",
   "metadata": {},
   "source": [
    "### K-Means (unsupervised)"
   ]
  },
  {
   "cell_type": "markdown",
   "metadata": {},
   "source": [
    "Number of turbines, Depth, and hub height are the most predictive from linear regression. For unsuperised clustering I will be using Depth because the number of turbines will be used to calculate my response variable for supervised clustering and hub height had too many missing values filled with meadian."
   ]
  },
  {
   "cell_type": "code",
   "execution_count": 229,
   "metadata": {},
   "outputs": [
    {
     "data": {
      "image/png": "[encoded data removed]",
      "text/plain": [
       "<matplotlib.figure.Figure at 0x218e70e3940>"
      ]
     },
     "metadata": {},
     "output_type": "display_data"
    }
   ],
   "source": [
    "kmeans_model = windFarms_Final_Bin.copy()\n",
    "\n",
    "f1 = kmeans_model['Total power (kW)'].values\n",
    "f2 = kmeans_model['Altitude/Depth (m)'].values\n",
    "X = np.array(list(zip(f1, f2)))\n",
    "plt.scatter(f1, f2, c='black', s=7)\n",
    "plt.xlabel('Total power (kW)')\n",
    "plt.ylabel('Altitude/Depth (m)')\n",
    "plt.show()"
   ]
  },
  {
   "cell_type": "code",
   "execution_count": 239,
   "metadata": {},
   "outputs": [
    {
     "name": "stdout",
     "output_type": "stream",
     "text": [
      "[[  3.   1.]\n",
      " [ 18.  21.]\n",
      " [ 18.  22.]\n",
      " [ 21.   3.]\n",
      " [ 14.   5.]]\n"
     ]
    }
   ],
   "source": [
    "# Euclidean Distance Caculator\n",
    "def dist(a, b, ax=1):\n",
    "    return np.linalg.norm(a - b, axis=ax)\n",
    "\n",
    "# Number of clusters\n",
    "k = 5\n",
    "# X coordinates of random centroids\n",
    "C_x = np.random.randint(0, np.max(X)-30, size=k)\n",
    "# Y coordinates of random centroids\n",
    "C_y = np.random.randint(0, np.max(X)-30, size=k)\n",
    "C = np.array(list(zip(C_x, C_y)), dtype=np.float32)\n",
    "print(C)"
   ]
  },
  {
   "cell_type": "code",
   "execution_count": 240,
   "metadata": {},
   "outputs": [],
   "source": [
    "from copy import deepcopy\n",
    "\n",
    "# To store the value of centroids when it updates\n",
    "C_old = np.zeros(C.shape)\n",
    "# Cluster Lables(0, 1, 2)\n",
    "clusters = np.zeros(len(X))\n",
    "# Error func. - Distance between new centroids and old centroids\n",
    "error = dist(C, C_old, None)\n",
    "# Loop will run till the error becomes zero\n",
    "while error != 0:\n",
    "    # Assigning each value to its closest cluster\n",
    "    for i in range(len(X)):\n",
    "        distances = dist(X[i], C)\n",
    "        cluster = np.argmin(distances)\n",
    "        clusters[i] = cluster\n",
    "    # Storing the old centroid values\n",
    "    C_old = deepcopy(C)\n",
    "    # Finding the new centroids by taking the average value\n",
    "    for i in range(k):\n",
    "        points = [X[j] for j in range(len(X)) if clusters[j] == i]\n",
    "        C[i] = np.mean(points, axis=0)\n",
    "    error = dist(C, C_old, None)\n",
    "\n"
   ]
  },
  {
   "cell_type": "code",
   "execution_count": 241,
   "metadata": {},
   "outputs": [
    {
     "data": {
      "image/png": "[encoded data removed]",
      "text/plain": [
       "<matplotlib.figure.Figure at 0x218d2815160>"
      ]
     },
     "metadata": {},
     "output_type": "display_data"
    }
   ],
   "source": [
    "colors = ['r', 'g', 'b', 'y', 'c', 'm']\n",
    "fig, ax = plt.subplots()\n",
    "for i in range(k):\n",
    "        points = np.array([X[j] for j in range(len(X)) if clusters[j] == i])\n",
    "        ax.scatter(points[:, 0], points[:, 1], s=7, c=colors[i])\n",
    "ax.scatter(C[:, 0], C[:, 1], marker='*', s=200, c='#050505')\n",
    "plt.show()"
   ]
  },
  {
   "cell_type": "markdown",
   "metadata": {},
   "source": [
    "> What I would have liked to have seen here would have been an increase in power output with an increase in depth. This would signify that companies are willing to go deeper to produce more power. This was not the case as the power output is relatively the same at each depth cluster."
   ]
  },
  {
   "cell_type": "code",
   "execution_count": 242,
   "metadata": {},
   "outputs": [],
   "source": [
    "# Fit model with 5 clusters\n",
    "from sklearn.cluster import KMeans\n",
    "\n",
    "km= KMeans(n_clusters=5)\n",
    "y_km = km.fit_predict(X)"
   ]
  },
  {
   "cell_type": "code",
   "execution_count": 247,
   "metadata": {},
   "outputs": [
    {
     "data": {
      "image/png": "[encoded data removed]",
      "text/plain": [
       "<matplotlib.figure.Figure at 0x218ca330dd8>"
      ]
     },
     "metadata": {},
     "output_type": "display_data"
    }
   ],
   "source": [
    "# Silhouette plot\n",
    "from matplotlib import cm\n",
    "from sklearn.metrics import silhouette_samples\n",
    "cluster_labels = np.unique(y_km)\n",
    "n_clusters = cluster_labels.shape[0]\n",
    "silhouette_vals = silhouette_samples(X, y_km, metric='euclidean')\n",
    "y_ax_lower, y_ax_upper = 0, 0\n",
    "yticks = []\n",
    "for i, c in enumerate(cluster_labels):\n",
    "    c_silhouette_vals = silhouette_vals[y_km == c]\n",
    "    c_silhouette_vals.sort()\n",
    "    y_ax_upper += len(c_silhouette_vals)\n",
    "    color = cm.jet(i / n_clusters)\n",
    "    plt.barh(range(y_ax_lower, y_ax_upper),\n",
    "             c_silhouette_vals,\n",
    "             height = 1.0,\n",
    "             edgecolor = 'none',\n",
    "             color = color)\n",
    "    yticks.append((y_ax_lower + y_ax_upper) / 2)\n",
    "    y_ax_lower += len(c_silhouette_vals)\n",
    "silhouette_avg = np.mean(silhouette_vals)\n",
    "plt.axvline(silhouette_avg,\n",
    "            color = 'red',\n",
    "            linestyle = '--')\n",
    "plt.yticks(yticks, cluster_labels + 1)\n",
    "plt.ylabel('Cluser')\n",
    "plt.xlabel('Silhouette coefficient')\n",
    "plt.show()"
   ]
  },
  {
   "cell_type": "markdown",
   "metadata": {},
   "source": [
    "> While the silhouette coefficients are relatively the same, we can see from their widths that our clusters are not of equal size."
   ]
  },
  {
   "cell_type": "markdown",
   "metadata": {},
   "source": [
    "### Decision Trees"
   ]
  },
  {
   "cell_type": "code",
   "execution_count": 59,
   "metadata": {},
   "outputs": [
    {
     "name": "stdout",
     "output_type": "stream",
     "text": [
      "(640, 2)\n",
      "(640,)\n",
      "(448, 2) (448,)\n",
      "(192, 2) (192,)\n"
     ]
    }
   ],
   "source": [
    "# Prep dataframe for modeling\n",
    "\n",
    "# Two methods: \n",
    "#   1) Use all variables\n",
    "#   2) Select only certain variables\n",
    "\n",
    "\n",
    "## Drop response var and output/turbine var from dataset\n",
    "#DecisionTree_model = windFarms_Final_Bin.copy()\n",
    "#DecisionTree_model.pop('Output/turbine')\n",
    "#DecisionTree_model.pop('Output Bin')\n",
    "#print(DecisionTree_model.shape)\n",
    "#y = windFarms_Final_Bin['Output Bin']\n",
    "#print(y.shape)\n",
    "\n",
    "# Need to binarize\n",
    "#y = label_binarize(y, classes = [1,2,3,4,5])\n",
    "\n",
    "### Only some variables\n",
    "DecisionTree_model = windFarms_Final_Bin[['Altitude/Depth (m)', 'Hub height (m)']]\n",
    "print(DecisionTree_model.shape)\n",
    "y = windFarms_Final_Bin['Output Bin']\n",
    "print(y.shape)\n",
    "\n",
    "# create training and testing vars\n",
    "X_train, X_test, y_train, y_test = train_test_split(DecisionTree_model, y, test_size=0.3)\n",
    "print(X_train.shape, y_train.shape)\n",
    "print(X_test.shape, y_test.shape)\n"
   ]
  },
  {
   "cell_type": "code",
   "execution_count": 60,
   "metadata": {},
   "outputs": [
    {
     "name": "stdout",
     "output_type": "stream",
     "text": [
      "Misclassified samples: 91\n",
      "Accuracy: 0.53\n"
     ]
    }
   ],
   "source": [
    "# Build Decision Tree\n",
    "tree = DecisionTreeClassifier(criterion='entropy', max_depth = 5, random_state = 0)\n",
    "tree.fit(X_train, y_train)\n",
    "\n",
    "# Use this model to make predictions\n",
    "y_pred = tree.predict(X_test)\n",
    "print('Misclassified samples: %d' % (y_test != y_pred).sum())\n",
    "print('Accuracy: %.2f' % accuracy_score(y_test, y_pred))"
   ]
  },
  {
   "cell_type": "markdown",
   "metadata": {},
   "source": [
    "> Used only Depth and Hub Height for decision tree because these seemed like good predictors of power output, but wth an accuracy score of 54% this wasn't a very useful model. I thought these would be good variables because the deeper the depth or the taller the hub height the more expensive the project would be. A company would only spend more money on a project if the return on investment makes sens (e.g. larger power output per turbine)."
   ]
  },
  {
   "cell_type": "code",
   "execution_count": 61,
   "metadata": {},
   "outputs": [],
   "source": [
    "# Display decision tree\n",
    "# Couldn't get this to work\n",
    "\n",
    "#from sklearn.externals.six import StringIO\n",
    "#tree_dot = StringIO()\n",
    "#export_graphviz(tree, out_file=tree_dot, feature_names = ['Altitude/depth (m)', 'Hub height (m)'])\n",
    "#import pydotplus\n",
    "#from IPython.display import Image\n",
    "#graph = pydotplus.graph_from_dot_data(tree_dot.getvalue())  \n",
    "#Image(graph.create_png())"
   ]
  },
  {
   "cell_type": "code",
   "execution_count": 62,
   "metadata": {},
   "outputs": [
    {
     "data": {
      "image/png": "[encoded data removed]",
      "text/plain": [
       "<matplotlib.figure.Figure at 0x274f961c128>"
      ]
     },
     "metadata": {},
     "output_type": "display_data"
    }
   ],
   "source": [
    "confmat = confusion_matrix(y_true = y_test, y_pred = y_pred)\n",
    "#print(confmat)\n",
    "fig, ax = plt.subplots(figsize=(10, 10))\n",
    "ax.matshow(confmat, cmap=plt.cm.Blues, alpha=0.3)\n",
    "for i in range(confmat.shape[0]):\n",
    "    for j in range(confmat.shape[1]):\n",
    "        ax.text(x=j, y=i,\n",
    "                s=confmat[i, j],\n",
    "                va='center', ha='center')\n",
    "plt.xlabel('predicted label')\n",
    "plt.ylabel('true label')\n",
    "plt.show()"
   ]
  },
  {
   "cell_type": "markdown",
   "metadata": {},
   "source": [
    "#### Random Forest"
   ]
  },
  {
   "cell_type": "code",
   "execution_count": 63,
   "metadata": {},
   "outputs": [
    {
     "name": "stdout",
     "output_type": "stream",
     "text": [
      "(640, 2)\n",
      "(640,)\n",
      "(448, 2) (448,)\n",
      "(192, 2) (192,)\n",
      "Misclassified samples: 102\n",
      "Accuracy: 0.47\n"
     ]
    }
   ],
   "source": [
    "# Random Forest\n",
    "\n",
    "### Only some variables\n",
    "RandomForest_model = windFarms_Final_Bin[['Altitude/Depth (m)', 'Hub height (m)']]\n",
    "print(RandomForest_model.shape)\n",
    "y = windFarms_Final_Bin['Output Bin']\n",
    "print(y.shape)\n",
    "\n",
    "# create training and testing vars\n",
    "X_train, X_test, y_train, y_test = train_test_split(RandomForest_model, y, test_size=0.3)\n",
    "print(X_train.shape, y_train.shape)\n",
    "print(X_test.shape, y_test.shape)\n",
    "\n",
    "from sklearn.ensemble import RandomForestClassifier\n",
    "forest = RandomForestClassifier(criterion = 'entropy', n_estimators = 100, random_state = 1, n_jobs = 2)\n",
    "forest.fit(X_train, y_train)\n",
    "\n",
    "# Use this model to make predictions\n",
    "y_pred = forest.predict(X_test)\n",
    "print('Misclassified samples: %d' % (y_test != y_pred).sum())\n",
    "print('Accuracy: %.2f' % accuracy_score(y_test, y_pred))"
   ]
  },
  {
   "cell_type": "markdown",
   "metadata": {},
   "source": [
    "> Random Forest was a little better with an accuracy score of 58%."
   ]
  },
  {
   "cell_type": "code",
   "execution_count": 64,
   "metadata": {},
   "outputs": [
    {
     "name": "stdout",
     "output_type": "stream",
     "text": [
      "              feature  importance\n",
      "0  Altitude/Depth (m)     0.71259\n",
      "1      Hub height (m)     0.28741\n"
     ]
    },
    {
     "data": {
      "text/plain": [
       "Text(0.5,1,'Random Forest Features importance')"
      ]
     },
     "execution_count": 64,
     "metadata": {},
     "output_type": "execute_result"
    }
   ],
   "source": [
    "#https://stackoverflow.com/questions/22361781/how-does-sklearn-random-forest-index-feature-importances\n",
    "importances = pd.DataFrame({'feature':X_train.columns, 'importance': forest.feature_importances_}) \n",
    "importances = importances.sort_values('importance',ascending=False)#.set_index('feature') \n",
    " \n",
    "#only display top 20 importances[:10].plot.bar()\n",
    "topDF1 = importances.head(20)\n",
    "print(topDF1)\n",
    "\n",
    "f, ax = plt.subplots(figsize=(15, 6))\n",
    "\n",
    "g = sns.barplot('feature', y=\"importance\", data=topDF1, color=\"red\", saturation=.9, ci=68)\n",
    "g =plt.xticks(rotation=90)\n",
    "plt.xlabel('Feature')\n",
    "plt.ylabel('importance')\n",
    "plt.title('Random Forest Features importance')"
   ]
  },
  {
   "cell_type": "code",
   "execution_count": 70,
   "metadata": {},
   "outputs": [
    {
     "data": {
      "image/png": "[encoded data removed]",
      "text/plain": [
       "<matplotlib.figure.Figure at 0x19d1f56b7f0>"
      ]
     },
     "metadata": {},
     "output_type": "display_data"
    }
   ],
   "source": [
    "confmat = confusion_matrix(y_true = y_test, y_pred = y_pred)\n",
    "#print(confmat)\n",
    "fig, ax = plt.subplots(figsize=(10, 10))\n",
    "ax.matshow(confmat, cmap=plt.cm.Blues, alpha=0.3)\n",
    "for i in range(confmat.shape[0]):\n",
    "    for j in range(confmat.shape[1]):\n",
    "        ax.text(x=j, y=i,\n",
    "                s=confmat[i, j],\n",
    "                va='center', ha='center')\n",
    "plt.xlabel('predicted label')\n",
    "plt.ylabel('true label')\n",
    "plt.show()"
   ]
  },
  {
   "cell_type": "markdown",
   "metadata": {},
   "source": [
    "### KNN Classifier"
   ]
  },
  {
   "cell_type": "code",
   "execution_count": 65,
   "metadata": {},
   "outputs": [
    {
     "name": "stdout",
     "output_type": "stream",
     "text": [
      "(640, 123)\n",
      "(640,)\n",
      "(448, 123) (448,)\n",
      "(192, 123) (192,)\n"
     ]
    }
   ],
   "source": [
    "# Prep dataframe for modeling\n",
    "\n",
    "## Drop response var and output/turbine var from dataset\n",
    "knn_model = windFarms_Final_Bin.copy()\n",
    "knn_model.pop('Output/turbine')\n",
    "knn_model.pop('Output Bin')\n",
    "print(knn_model.shape)\n",
    "y = windFarms_Final_Bin['Output Bin']\n",
    "print(y.shape)\n",
    "\n",
    "# create training and testing vars\n",
    "X_train, X_test, y_train, y_test = train_test_split(knn_model, y, test_size=0.3)\n",
    "print(X_train.shape, y_train.shape)\n",
    "print(X_test.shape, y_test.shape)"
   ]
  },
  {
   "cell_type": "code",
   "execution_count": 66,
   "metadata": {},
   "outputs": [
    {
     "name": "stdout",
     "output_type": "stream",
     "text": [
      "Misclassified samples: 76\n",
      "Accuracy: 0.60\n"
     ]
    }
   ],
   "source": [
    "# Build Decision Tree\n",
    "from sklearn.neighbors import KNeighborsClassifier\n",
    "knn = KNeighborsClassifier(n_neighbors = 5, p = 2, metric = 'minkowski')\n",
    "knn.fit(X_train, y_train)\n",
    "\n",
    "# Use this model to make predictions\n",
    "y_pred = knn.predict(X_test)\n",
    "print('Misclassified samples: %d' % (y_test != y_pred).sum())\n",
    "print('Accuracy: %.2f' % accuracy_score(y_test, y_pred))"
   ]
  },
  {
   "cell_type": "markdown",
   "metadata": {},
   "source": [
    "> KNN classifier did better than the Random forest with an accuracy of 67%, but not as well as the Perceptron model at 76%."
   ]
  },
  {
   "cell_type": "code",
   "execution_count": 73,
   "metadata": {},
   "outputs": [
    {
     "data": {
      "image/png": "[encoded data removed]",
      "text/plain": [
       "<matplotlib.figure.Figure at 0x19d1f56b208>"
      ]
     },
     "metadata": {},
     "output_type": "display_data"
    }
   ],
   "source": [
    "confmat = confusion_matrix(y_true = y_test, y_pred = y_pred)\n",
    "#print(confmat)\n",
    "fig, ax = plt.subplots(figsize=(10, 10))\n",
    "ax.matshow(confmat, cmap=plt.cm.Blues, alpha=0.3)\n",
    "for i in range(confmat.shape[0]):\n",
    "    for j in range(confmat.shape[1]):\n",
    "        ax.text(x=j, y=i,\n",
    "                s=confmat[i, j],\n",
    "                va='center', ha='center')\n",
    "plt.xlabel('predicted label')\n",
    "plt.ylabel('true label')\n",
    "plt.show()"
   ]
  },
  {
   "cell_type": "markdown",
   "metadata": {},
   "source": [
    "### Ensemble Methods"
   ]
  },
  {
   "cell_type": "markdown",
   "metadata": {},
   "source": [
    "#### Majority Vote"
   ]
  },
  {
   "cell_type": "code",
   "execution_count": 82,
   "metadata": {},
   "outputs": [],
   "source": [
    "# Build the majority vote classifier\n",
    "\n",
    "# Necessary packages and functions\n",
    "from sklearn.base import BaseEstimator\n",
    "from sklearn.base import ClassifierMixin\n",
    "from sklearn.preprocessing import LabelEncoder\n",
    "from sklearn.externals import six # For compatability issues\n",
    "from sklearn.base import clone\n",
    "from sklearn.pipeline import _name_estimators\n",
    "import operator\n",
    "\n",
    "# Majority Vote Classifier implementation\n",
    "## Allows us to bring in each classifier's parameters as well as the method to get accuracy score\n",
    "class MajorityVoteClassifier(BaseEstimator, ClassifierMixin):\n",
    "    def __init__(self, classifiers, vote = 'classlabel', weights = None):\n",
    "        self.classifiers = classifiers\n",
    "        self.named_classifiers = {key: value for key, value in _name_estimators(classifiers)}\n",
    "        self.vote = vote\n",
    "        self.weights = weights\n",
    "        \n",
    "    def fit(self, X, y):\n",
    "        # Use LabelEncoder to ensure class labels start with 0, which is important...\n",
    "        # ...for np.argmax call in self.predict\n",
    "        self.lablenc_ = LabelEncoder()\n",
    "        self.lablenc_.fit(y)\n",
    "        self.classes_ = self.lablenc_.classes_\n",
    "        self.classifiers_ = []\n",
    "        for clf in self.classifiers:\n",
    "            fitted_clf = clone(clf).fit(X, self.lablenc_.transform(y))\n",
    "            self.classifiers_.append(fitted_clf)\n",
    "        return self\n",
    "    \n",
    "    # Predicts class by majority vote if vote = 'classlabel'\n",
    "    # Predicts class by membership probabilities if vote = 'probability'\n",
    "    def predict(self, X):\n",
    "        if self.vote == \"probability\":\n",
    "            maj_vote = np.argmax(self.predict_proba(X), axis = 1)\n",
    "        else: # 'classlabel' vote\n",
    "            # Collect results from clf.predict calls\n",
    "            predictions = np.asarray([clf.predict(X) for clf in self.classifiers_]).T\n",
    "            maj_vote = np.apply_along_axis(lambda x: np.argmax(np.bincount(x, \n",
    "                                                                            weights = self.weights)),\n",
    "                                           axis = 1, \n",
    "                                           arr = predictions)\n",
    "            maj_vote = self.lablenc_.inverse_transform(maj_vote)\n",
    "            return maj_vote\n",
    "    \n",
    "    # Return the average probilities, for ROC AUC\n",
    "    def predict_proba(self, X):\n",
    "        probas = np.asarray([clf.predict_proba(X) for clf in self.classifiers_])\n",
    "        avg_proba = np.average(probas, \n",
    "                               axis = 0,\n",
    "                               weights = self.weights)\n",
    "        return avg_proba\n",
    "    \n",
    "    # Get individual classifier parameters\n",
    "    def get_params(self, deep = True):\n",
    "        if not deep:\n",
    "            return super(MajorityVoteClassifier, self).get_params(deep = False)\n",
    "        else:\n",
    "            out = self.named_classifiers.copy()\n",
    "            for name, step in six.iteritems(self.named_classifiers):\n",
    "                for key, value in six.iteritems(step.get_params(deep = True)):\n",
    "                    out['%s__%s' % (name, key)] = value\n",
    "            return out"
   ]
  },
  {
   "cell_type": "code",
   "execution_count": 116,
   "metadata": {},
   "outputs": [
    {
     "name": "stdout",
     "output_type": "stream",
     "text": [
      "(640, 121)\n",
      "(640,)\n",
      "(448, 121) (448,)\n",
      "(192, 121) (192,)\n"
     ]
    }
   ],
   "source": [
    "# Prep dataframe for modeling\n",
    "\n",
    "## Drop response var and output/turbine var from dataset\n",
    "ensemble_model = windFarms_Final_Bin.copy()\n",
    "ensemble_model_new = windFarms_Final_Bin.copy()\n",
    "\n",
    "# Can't perform roc_auc on multiclass problems...\n",
    "# ...need to select only 2 bins\n",
    "ensemble_model_new['Power Output > 3.5'] = np.where(ensemble_model['Output/turbine'] > 3.5, 1, 0)\n",
    "ensemble_model.pop('Output/turbine')\n",
    "ensemble_model.pop('Output Bin')\n",
    "ensemble_model.pop('Number of turbines')\n",
    "ensemble_model.pop('Total power (kW)')\n",
    "print(ensemble_model.shape)\n",
    "y = ensemble_model_new['Power Output > 3.5']\n",
    "print(y.shape)\n",
    "\n",
    "# Need to binarize\n",
    "#y = label_binarize(y, classes = [1,2,3,4,5])\n",
    "\n",
    "\n",
    "# create training and testing vars\n",
    "X_train, X_test, y_train, y_test = train_test_split(ensemble_model, y, test_size=0.3)\n",
    "print(X_train.shape, y_train.shape)\n",
    "print(X_test.shape, y_test.shape)"
   ]
  },
  {
   "cell_type": "code",
   "execution_count": 113,
   "metadata": {},
   "outputs": [
    {
     "data": {
      "text/html": [
       "<div>\n",
       "<style>\n",
       "    .dataframe thead tr:only-child th {\n",
       "        text-align: right;\n",
       "    }\n",
       "\n",
       "    .dataframe thead th {\n",
       "        text-align: left;\n",
       "    }\n",
       "\n",
       "    .dataframe tbody tr th {\n",
       "        vertical-align: top;\n",
       "    }\n",
       "</style>\n",
       "<table border=\"1\" class=\"dataframe\">\n",
       "  <thead>\n",
       "    <tr style=\"text-align: right;\">\n",
       "      <th></th>\n",
       "      <th>Power Output &gt; 3.5</th>\n",
       "      <th>counts</th>\n",
       "    </tr>\n",
       "  </thead>\n",
       "  <tbody>\n",
       "    <tr>\n",
       "      <th>0</th>\n",
       "      <td>0</td>\n",
       "      <td>343</td>\n",
       "    </tr>\n",
       "    <tr>\n",
       "      <th>1</th>\n",
       "      <td>1</td>\n",
       "      <td>297</td>\n",
       "    </tr>\n",
       "  </tbody>\n",
       "</table>\n",
       "</div>"
      ],
      "text/plain": [
       "   Power Output > 3.5  counts\n",
       "0                   0     343\n",
       "1                   1     297"
      ]
     },
     "execution_count": 113,
     "metadata": {},
     "output_type": "execute_result"
    }
   ],
   "source": [
    "# Check to see how many observations are in each bin\n",
    "BinCounts2 = windFarms_Final_Bin.copy()\n",
    "BinCounts2['Power Output > 3.5'] = np.where(BinCounts2['Output/turbine'] > 3.5, 1, 0)\n",
    "BinCounts2.groupby(['Power Output > 3.5']).size().reset_index(name='counts')"
   ]
  },
  {
   "cell_type": "code",
   "execution_count": 104,
   "metadata": {},
   "outputs": [
    {
     "data": {
      "text/plain": [
       "33.115451958692312"
      ]
     },
     "execution_count": 104,
     "metadata": {},
     "output_type": "execute_result"
    }
   ],
   "source": [
    "np.exp(3.5)"
   ]
  },
  {
   "cell_type": "code",
   "execution_count": 105,
   "metadata": {},
   "outputs": [],
   "source": [
    "### Note: I tested with these, but for the ensemeble model I used previous methods\n",
    "\n",
    "# Train different classifiers\n",
    "#from sklearn.linear_model import LogisticRegression\n",
    "#from sklearn.neighbors import KNeighborsClassifier\n",
    "#from sklearn.pipeline import Pipeline\n",
    "\n",
    "#clf1 = LogisticRegression(#penalty = '12',\n",
    "#                          C = 0.001,\n",
    "#                          random_state = 0)\n",
    "\n",
    "#clf2 = DecisionTreeClassifier(max_depth = 1,\n",
    "#                             criterion = 'entropy',\n",
    "#                             random_state = 0)\n",
    "\n",
    "#clf3 = KNeighborsClassifier(n_neighbors = 1,\n",
    "#                           p = 1,\n",
    "#                           metric = 'minkowski')\n",
    "\n",
    "# Don't need pipeline for DecisionTree because it doesn't have to be scaled\n",
    "#pipe1 = Pipeline([['sc', StandardScaler()],\n",
    "#                  ['clf', clf1]])\n",
    "#pipe3 = Pipeline([['sc', StandardScaler()],\n",
    "#                  ['clf', clf3]])\n",
    "\n",
    "#clf_labels = ['Logistic Regression', 'Decision Tree', 'KNN']\n",
    "#print('10-fold cross validation:\\n')\n",
    "#for clf, label in zip([pipe1, clf2, pipe3], clf_labels):\n",
    "#    scores = cross_val_score(estimator=clf,\n",
    "#                             X = X_train,\n",
    "#                             y = y_train,\n",
    "#                             cv = 10,\n",
    "#                             scoring = 'roc_auc')\n",
    "#    print(\"ROC AUC: %0.2f (+/- %0.2f) [%s]\" % (scores.mean(), scores.std(), label))"
   ]
  },
  {
   "cell_type": "code",
   "execution_count": 117,
   "metadata": {},
   "outputs": [
    {
     "name": "stdout",
     "output_type": "stream",
     "text": [
      "Accuracy: 0.64 (+/- 0.07) [Decision Tree]\n",
      "Accuracy: 0.68 (+/- 0.07) [Random Forest]\n",
      "Accuracy: 0.63 (+/- 0.08) [KNN]\n",
      "Accuracy: 0.69 (+/- 0.07) [Majority Voting]\n"
     ]
    }
   ],
   "source": [
    "mv_clf = MajorityVoteClassifier(classifiers = [tree, forest, knn])\n",
    "clf_labels = ['Decision Tree', 'Random Forest', 'KNN','Majority Voting']\n",
    "all_clf = [tree, forest, knn, mv_clf]\n",
    "for clf, label in zip(all_clf, clf_labels):\n",
    "    scores = cross_val_score(estimator=clf,\n",
    "                             X = X_train,\n",
    "                             y = y_train,\n",
    "                             cv = 10,\n",
    "                             scoring = 'roc_auc')\n",
    "    print(\"Accuracy: %0.2f (+/- %0.2f) [%s]\" % (scores.mean(), scores.std(), label))"
   ]
  },
  {
   "cell_type": "markdown",
   "metadata": {},
   "source": [
    "#### Bagging"
   ]
  },
  {
   "cell_type": "code",
   "execution_count": 161,
   "metadata": {},
   "outputs": [
    {
     "name": "stdout",
     "output_type": "stream",
     "text": [
      "(640, 2)\n",
      "(640,)\n",
      "(448, 2) (448,)\n",
      "(192, 2) (192,)\n"
     ]
    }
   ],
   "source": [
    "# Prep dataframe for modeling\n",
    "\n",
    "## Drop response var and output/turbine var from dataset\n",
    "bagging_model = windFarms_Final_Bin.copy()\n",
    "bagging_model_new = windFarms_Final_Bin.copy()\n",
    "\n",
    "bagging_model_new['Power Output > 3.5'] = np.where(bagging_model['Output/turbine'] > 3.5, 1, 0)\n",
    "\n",
    "### Only some variables\n",
    "bagging_model = bagging_model[['Altitude/Depth (m)', 'Hub height (m)']].values\n",
    "print(bagging_model.shape)\n",
    "y = bagging_model_new['Power Output > 3.5']\n",
    "print(y.shape)\n",
    "\n",
    "\n",
    "# Need to binarize\n",
    "le = LabelEncoder()\n",
    "y = le.fit_transform(y)\n",
    "\n",
    "# create training and testing vars\n",
    "X_train, X_test, y_train, y_test = train_test_split(bagging_model, y, test_size=0.3)\n",
    "print(X_train.shape, y_train.shape)\n",
    "print(X_test.shape, y_test.shape)"
   ]
  },
  {
   "cell_type": "code",
   "execution_count": 162,
   "metadata": {},
   "outputs": [],
   "source": [
    "# Create ensemble of 500 decision trees fitted to bootstrap samples\n",
    "\n",
    "from sklearn.ensemble import BaggingClassifier\n",
    "tree = DecisionTreeClassifier(criterion = 'entropy',\n",
    "                              max_depth = None,\n",
    "                              random_state = 1)\n",
    "bag = BaggingClassifier(base_estimator=tree,\n",
    "                        n_estimators = 500,\n",
    "                        max_samples = 1.0,\n",
    "                        max_features = 1.0,\n",
    "                        bootstrap = True,\n",
    "                        bootstrap_features = False,\n",
    "                        n_jobs = 1,\n",
    "                        random_state = 1)"
   ]
  },
  {
   "cell_type": "code",
   "execution_count": 163,
   "metadata": {},
   "outputs": [
    {
     "name": "stdout",
     "output_type": "stream",
     "text": [
      "Decision tree train/test accuracies 0.741/0.604\n"
     ]
    }
   ],
   "source": [
    "# Calculate accuracy score of a single tree\n",
    "tree = tree.fit(X_train, y_train)\n",
    "y_train_pred = tree.predict(X_train)\n",
    "y_test_pred = tree.predict(X_test)\n",
    "tree_train = accuracy_score(y_train, y_train_pred)\n",
    "tree_test = accuracy_score(y_test, y_test_pred)\n",
    "print('Decision tree train/test accuracies %.3f/%.3f' % (tree_train, tree_test))"
   ]
  },
  {
   "cell_type": "code",
   "execution_count": 164,
   "metadata": {},
   "outputs": [
    {
     "name": "stdout",
     "output_type": "stream",
     "text": [
      "Bagging train/test accuracies 0.741/0.615\n"
     ]
    }
   ],
   "source": [
    "# Claculate accuray score of bagging\n",
    "bag = bag.fit(X_train, y_train)\n",
    "y_train_pred = bag.predict(X_train)\n",
    "y_test_pred = bag.predict(X_test)\n",
    "bag_train = accuracy_score(y_train, y_train_pred)\n",
    "bag_test = accuracy_score(y_test, y_test_pred)\n",
    "print('Bagging train/test accuracies %.3f/%.3f' % (bag_train, bag_test))"
   ]
  },
  {
   "cell_type": "code",
   "execution_count": 165,
   "metadata": {},
   "outputs": [
    {
     "data": {
      "image/png": "[encoded data removed]",
      "text/plain": [
       "<matplotlib.figure.Figure at 0x19d1f088828>"
      ]
     },
     "metadata": {},
     "output_type": "display_data"
    }
   ],
   "source": [
    "# Decision regions\n",
    "x_min = X_train[:, 0].min() - 1\n",
    "x_max = X_train[:, 0].max() + 1\n",
    "y_min = X_train[:, 1].min() - 1\n",
    "y_max = X_train[:, 1].max() + 1\n",
    "xx, yy = np.meshgrid(np.arange(x_min, x_max, 0.1),\n",
    "                     np.arange(y_min, y_max, 0.1))\n",
    "f, axarr = plt.subplots(nrows=1, ncols=2,\n",
    "                        sharex='col',\n",
    "                        sharey='row',\n",
    "                        figsize=(8,3))\n",
    "for idx, clf, tt in zip([0,1],\n",
    "                        [tree, bag],\n",
    "                        ['Decision Tree', 'Bagging']):\n",
    "    clf.fit(X_train, y_train)\n",
    "    \n",
    "    Z = clf.predict(np.c_[xx.ravel(), yy.ravel()])\n",
    "    Z = Z.reshape(xx.shape)\n",
    "    axarr[idx].contourf(xx, yy, Z, alpha = 0.3)\n",
    "    axarr[idx].scatter(X_train[y_train==0, 0],\n",
    "                       X_train[y_train==0, 1],\n",
    "                       c='blue', marker='^')\n",
    "    axarr[idx].scatter(X_train[y_train==1, 0],\n",
    "                       X_train[y_train==1, 1],\n",
    "                       c='red', marker='o')\n",
    "    axarr[idx].set_title(tt)\n",
    "axarr[0].set_ylabel('Depth (m)', fontsize=12)\n",
    "plt.text(10.2, -1.2, s='Hub Height (m)', ha='center', va='center',fontsize=12)\n",
    "plt.show()"
   ]
  }
 ],
 "metadata": {
  "kernelspec": {
   "display_name": "Python 3",
   "language": "python",
   "name": "python3"
  },
  "language_info": {
   "codemirror_mode": {
    "name": "ipython",
    "version": 3
   },
   "file_extension": ".py",
   "mimetype": "text/x-python",
   "name": "python",
   "nbconvert_exporter": "python",
   "pygments_lexer": "ipython3",
   "version": "3.6.3"
  }
 },
 "nbformat": 4,
 "nbformat_minor": 2
}
